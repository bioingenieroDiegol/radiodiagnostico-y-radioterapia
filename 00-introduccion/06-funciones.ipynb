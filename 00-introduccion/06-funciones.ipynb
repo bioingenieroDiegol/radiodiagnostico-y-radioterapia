{
 "cells": [
  {
   "cell_type": "code",
   "execution_count": 1,
   "metadata": {},
   "outputs": [
    {
     "ename": "ModuleNotFoundError",
     "evalue": "No module named 'pint'",
     "output_type": "error",
     "traceback": [
      "\u001b[0;31m---------------------------------------------------------------------------\u001b[0m",
      "\u001b[0;31mModuleNotFoundError\u001b[0m                       Traceback (most recent call last)",
      "\u001b[0;32m<ipython-input-1-b441652443c8>\u001b[0m in \u001b[0;36m<module>\u001b[0;34m\u001b[0m\n\u001b[1;32m      1\u001b[0m \u001b[0;32mimport\u001b[0m \u001b[0mnumpy\u001b[0m \u001b[0;32mas\u001b[0m \u001b[0mnp\u001b[0m\u001b[0;34m\u001b[0m\u001b[0;34m\u001b[0m\u001b[0m\n\u001b[1;32m      2\u001b[0m \u001b[0;34m\u001b[0m\u001b[0m\n\u001b[0;32m----> 3\u001b[0;31m \u001b[0;32mfrom\u001b[0m \u001b[0mpint\u001b[0m \u001b[0;32mimport\u001b[0m \u001b[0mUnitRegistry\u001b[0m\u001b[0;34m\u001b[0m\u001b[0;34m\u001b[0m\u001b[0m\n\u001b[0m\u001b[1;32m      4\u001b[0m \u001b[0mu\u001b[0m \u001b[0;34m=\u001b[0m \u001b[0mUnitRegistry\u001b[0m\u001b[0;34m(\u001b[0m\u001b[0;34m)\u001b[0m\u001b[0;34m\u001b[0m\u001b[0;34m\u001b[0m\u001b[0m\n\u001b[1;32m      5\u001b[0m \u001b[0mu\u001b[0m\u001b[0;34m.\u001b[0m\u001b[0mload_definitions\u001b[0m\u001b[0;34m(\u001b[0m\u001b[0;34m'./mis-defs.txt'\u001b[0m\u001b[0;34m)\u001b[0m\u001b[0;34m\u001b[0m\u001b[0;34m\u001b[0m\u001b[0m\n",
      "\u001b[0;31mModuleNotFoundError\u001b[0m: No module named 'pint'"
     ]
    }
   ],
   "source": [
    "import numpy as np\n",
    "\n",
    "from pint import UnitRegistry\n",
    "u = UnitRegistry()\n",
    "u.load_definitions('./mis-defs.txt') \n",
    "\n",
    "import matplotlib.pyplot as plt\n",
    "\n",
    "%matplotlib inline"
   ]
  },
  {
   "cell_type": "markdown",
   "metadata": {},
   "source": [
    "# Funciones (Python)"
   ]
  },
  {
   "cell_type": "markdown",
   "metadata": {},
   "source": [
    "Para definir una función se usa la palabra clave *def*. Los valores que devuelve la función se colocan con un return en la última linea. Viendo un ejemplo se puede entender la sintaxis. El bloque dentro de la función queda definido por la indentación (no hay llaves ni otro tipo de elemento para señalar el conjunto de instrucciones que componen la función."
   ]
  },
  {
   "cell_type": "markdown",
   "metadata": {},
   "source": [
    "Vamos a definir una función que permita calcular la evolución de los decaimientos de una muestra radiactiva\n",
    "\n",
    "$N = N_0 \\cdot e^{-\\lambda t}$\n",
    "\n",
    "En vez de usar $\\lambda$ vamos a utilizar $\\tau$\n",
    "\n",
    "$$N = N_0 \\cdot e^{-\\frac{ln(2) \\cdot t}{\\tau}}$$\n"
   ]
  },
  {
   "cell_type": "code",
   "execution_count": null,
   "metadata": {},
   "outputs": [],
   "source": [
    "def n(n0, tau, t):\n",
    "    exponente = - np.log(2) * t /tau\n",
    "    return n0 * np.exp(exponente)"
   ]
  },
  {
   "cell_type": "code",
   "execution_count": null,
   "metadata": {},
   "outputs": [],
   "source": [
    "n0 = 100\n",
    "tau = 10 * u('min')"
   ]
  },
  {
   "cell_type": "markdown",
   "metadata": {},
   "source": [
    "Verificamos que ingresamos los valores adecuados (y que reconoce las unidades)"
   ]
  },
  {
   "cell_type": "code",
   "execution_count": null,
   "metadata": {},
   "outputs": [],
   "source": [
    "print(n0, tau.to('year'))"
   ]
  },
  {
   "cell_type": "markdown",
   "metadata": {},
   "source": [
    "Podemos calcular el número de nucleos en distintos tiempos (variando t1):"
   ]
  },
  {
   "cell_type": "code",
   "execution_count": null,
   "metadata": {},
   "outputs": [],
   "source": [
    "t1 = 10 * u('min')\n",
    "n_a = n(n0, tau, t1)\n",
    "n_a"
   ]
  },
  {
   "cell_type": "markdown",
   "metadata": {},
   "source": [
    "## Uso de vectores y unidades para graficar"
   ]
  },
  {
   "cell_type": "markdown",
   "metadata": {},
   "source": [
    "Generamos el vector de tiempos y le otorgamos unidades."
   ]
  },
  {
   "cell_type": "code",
   "execution_count": null,
   "metadata": {},
   "outputs": [],
   "source": [
    "vector_t = np.arange(0.0, 10.0, 0.01) * u('min')"
   ]
  },
  {
   "cell_type": "markdown",
   "metadata": {},
   "source": [
    "Verificamos algún elemento del vector"
   ]
  },
  {
   "cell_type": "code",
   "execution_count": null,
   "metadata": {},
   "outputs": [],
   "source": [
    "vector_t[20]"
   ]
  },
  {
   "cell_type": "markdown",
   "metadata": {},
   "source": [
    "Generamos el vector de nucleos. Definimos nuevamente n0 y tau para tener las variables más cerca y poder cambiarlas más facilmente."
   ]
  },
  {
   "cell_type": "code",
   "execution_count": null,
   "metadata": {},
   "outputs": [],
   "source": [
    "n0 = 1000\n",
    "tau = 2 * u('min')\n",
    "\n",
    "vector_n = n(n0, tau, vector_t)"
   ]
  },
  {
   "cell_type": "markdown",
   "metadata": {},
   "source": [
    "Mostramos algún elemento para verificar..."
   ]
  },
  {
   "cell_type": "code",
   "execution_count": null,
   "metadata": {},
   "outputs": [],
   "source": [
    "vector_n[10]"
   ]
  },
  {
   "cell_type": "markdown",
   "metadata": {},
   "source": [
    "## Graficación"
   ]
  },
  {
   "cell_type": "markdown",
   "metadata": {},
   "source": [
    "Graficamos del siguiente modo. **Da un aviso de que la gráfica se realiza habiendo quitado las unidades (no importa, nos sirve igual)**"
   ]
  },
  {
   "cell_type": "code",
   "execution_count": null,
   "metadata": {
    "scrolled": true
   },
   "outputs": [],
   "source": [
    "fig, ax = plt.subplots()\n",
    "ax.plot(vector_t, vector_n)\n",
    "\n",
    "ax.set(xlabel='Tiempo', ylabel='Nucleos', title='Decaimiento')\n",
    "ax.grid()\n",
    "\n",
    "plt.show()"
   ]
  },
  {
   "cell_type": "markdown",
   "metadata": {},
   "source": [
    "## Algunas funciones útiles"
   ]
  },
  {
   "cell_type": "code",
   "execution_count": null,
   "metadata": {},
   "outputs": [],
   "source": [
    "def N(n0, tmedio, t):\n",
    "    '''Calcula la exponencial decreciente que describen los núcleos radiactivos al decaer'''\n",
    "    lmbd = np.log(2)/tmedio\n",
    "    exponente = - lmbd * t\n",
    "    return n0 * np.exp(exponente)\n",
    "\n",
    "def A(a0, tmedio, t):\n",
    "    '''Calcula la exponencial decreciente que describe la actividad'''\n",
    "    lmbd = np.log(2)/tmedio\n",
    "    exponente = - lmbd * t\n",
    "    return a0 * np.exp(exponente)\n",
    "\n",
    "def AtoN(a, tmedio):\n",
    "    '''Convierte la actividad instantánea en el número de núcleos presentes en la muestra en ese instante'''\n",
    "    lmbd = np.log(2)/tmedio\n",
    "    return a/lmbd\n",
    "    \n",
    "def concAct(a, vol):\n",
    "    '''Calcula la concentración de actividad en una solución\n",
    "    a: actividad\n",
    "    vol: volumen de solución'''\n",
    "    return a/vol\n",
    "\n",
    "def mostrar(numero,precision=2):\n",
    "    '''Esta función permite darle formato científico a un número. El argumento\n",
    "    *precision* es el número de decimales con que se verá.\n",
    "    '''    \n",
    "    print( \"{:.{}e}\".format(numero, precision ) )"
   ]
  },
  {
   "cell_type": "markdown",
   "metadata": {},
   "source": [
    "### Ayuda"
   ]
  },
  {
   "cell_type": "markdown",
   "metadata": {},
   "source": [
    "La documentación presente en el inicio de cada función se denomina docstring. La mayoría de los paquetes de Python tienen todas sus funciones con docstrings así que se puede invocar la ayuda de todas ellas en cualquier momento. Y se puede invocar de dos maneras:\n",
    "1. Con *Shift+Tab* luego del nombre de la función. Se abre una ventanita que a su vez puede ser expandida pulsando sobre el símbolo + (que aparece en esa ventanita, arriba a la derecha).\n",
    "2. Con la orden *help(nombreDeLaFunción)*"
   ]
  },
  {
   "cell_type": "code",
   "execution_count": null,
   "metadata": {
    "scrolled": true
   },
   "outputs": [],
   "source": [
    "help(concAct)"
   ]
  },
  {
   "cell_type": "markdown",
   "metadata": {},
   "source": [
    "### Uso de constantes del paquete Scipy."
   ]
  },
  {
   "cell_type": "markdown",
   "metadata": {},
   "source": [
    "De acuerdo al modo en que se importen las constantes, varía la sintaxis para invocarlas. En la celda siguiente se muestra cómo importar todas las constantes del paquete *scipy*, y asignar una sola de ellas a una variable."
   ]
  },
  {
   "cell_type": "code",
   "execution_count": null,
   "metadata": {},
   "outputs": [],
   "source": [
    "from scipy import constants\n",
    "\n",
    "Avogadro = constants.Avogadro\n",
    "Avogadro"
   ]
  },
  {
   "cell_type": "markdown",
   "metadata": {},
   "source": [
    "Podemos importar sólo la constante de nuestro interés."
   ]
  },
  {
   "cell_type": "code",
   "execution_count": null,
   "metadata": {},
   "outputs": [],
   "source": [
    "from scipy.constants import Avogadro\n",
    "\n",
    "Avogadro"
   ]
  },
  {
   "cell_type": "markdown",
   "metadata": {},
   "source": [
    "## Cálculo de masa de una muestra"
   ]
  },
  {
   "cell_type": "code",
   "execution_count": null,
   "metadata": {},
   "outputs": [],
   "source": [
    "from scipy.constants import Avogadro\n",
    "\n",
    "def masa(n, masaMolar):\n",
    "    '''Devuelve la masa correspondiente al número de nucleos presentes en la muestra (n) y la masa molar del RN'''\n",
    "    return n * masaMolar / Avogadro"
   ]
  },
  {
   "cell_type": "markdown",
   "metadata": {},
   "source": [
    "### Ejemplo"
   ]
  },
  {
   "cell_type": "markdown",
   "metadata": {},
   "source": [
    "Un ejemplo para verificar que funciona. Masa de Tc99m presentes en una muestra cuya actividad es de 180 mCi:"
   ]
  },
  {
   "cell_type": "code",
   "execution_count": null,
   "metadata": {},
   "outputs": [],
   "source": [
    "# datos\n",
    "\n",
    "A = 180 * u('mCi')\n",
    "tmedio = 6.02 * u('hour')\n",
    "masaTc99m = 99 * u('g')"
   ]
  },
  {
   "cell_type": "markdown",
   "metadata": {},
   "source": [
    "Primero calculamos el número de nucleos y luego finalmente la masa correspondiente."
   ]
  },
  {
   "cell_type": "code",
   "execution_count": null,
   "metadata": {},
   "outputs": [],
   "source": [
    "N = AtoN(A,tmedio)\n",
    "m_muestra = masa(N, masaTc99m)"
   ]
  },
  {
   "cell_type": "markdown",
   "metadata": {},
   "source": [
    "## Presentación de resultados"
   ]
  },
  {
   "cell_type": "markdown",
   "metadata": {},
   "source": [
    "Las variables se pueden mostrar con distintas notaciones. A continuación algunos ejemplos:"
   ]
  },
  {
   "cell_type": "markdown",
   "metadata": {},
   "source": [
    "* Sin procesar"
   ]
  },
  {
   "cell_type": "code",
   "execution_count": null,
   "metadata": {
    "scrolled": true
   },
   "outputs": [],
   "source": [
    "m_muestra"
   ]
  },
  {
   "cell_type": "markdown",
   "metadata": {},
   "source": [
    "* en gramos y submúltiplos:"
   ]
  },
  {
   "cell_type": "code",
   "execution_count": null,
   "metadata": {
    "scrolled": true
   },
   "outputs": [],
   "source": [
    "print(m_muestra.to('g'))\n",
    "print(m_muestra.to('pg'))\n",
    "print(m_muestra.to('ng'))"
   ]
  },
  {
   "cell_type": "markdown",
   "metadata": {},
   "source": [
    "* usando la función *mostrar* para ver en notación científica con diverso número de cifras significativas:"
   ]
  },
  {
   "cell_type": "code",
   "execution_count": null,
   "metadata": {},
   "outputs": [],
   "source": [
    "mostrar(m_muestra.to('g'))\n",
    "mostrar(m_muestra.to('pg'),5)\n",
    "mostrar(m_muestra.to('ng'),3)"
   ]
  }
 ],
 "metadata": {
  "kernelspec": {
   "display_name": "Python 3",
   "language": "python",
   "name": "python3"
  },
  "language_info": {
   "codemirror_mode": {
    "name": "ipython",
    "version": 3
   },
   "file_extension": ".py",
   "mimetype": "text/x-python",
   "name": "python",
   "nbconvert_exporter": "python",
   "pygments_lexer": "ipython3",
   "version": "3.8.5"
  }
 },
 "nbformat": 4,
 "nbformat_minor": 2
}
