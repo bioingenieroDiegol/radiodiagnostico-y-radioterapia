{
 "cells": [
  {
   "cell_type": "markdown",
   "id": "38293c35",
   "metadata": {},
   "source": [
    "# Problema 1\n",
    "\n",
    "1. ¿Cuántos átomos de U-234, U-235 y U-238 hay en 15 g de Uranio natural?\n",
    "2. Si se tiene una muestra de 10 ng de U-234 ¿Cuál es la actividad presente en la muestra? Indique las principales emisiones del U-234 y sus núcleos hija"
   ]
  },
  {
   "cell_type": "markdown",
   "id": "992e641d",
   "metadata": {},
   "source": [
    "## Parte 1\n",
    "\n",
    "**¿Cuántos átomos de U-234, U-235 y U-238 hay en 15 g de Uranio natural?**"
   ]
  },
  {
   "cell_type": "markdown",
   "id": "b04e31b0",
   "metadata": {},
   "source": [
    "El uranio en la naturaleza se encuentra como una mezcla de distintos isótopos, en un cierto porcentaje cada uno de ellos. Datos extraidos de [Nudat 3.0](https://www.nndc.bnl.gov/nudat3)\n",
    "\n",
    "| Isótopo | Abundancia |\n",
    "|---|---|\n",
    "| U-234 | 0.0054% |\n",
    "| U-235 | 0.7204% |\n",
    "| U-238 | 99.2742% |"
   ]
  },
  {
   "cell_type": "markdown",
   "id": "31602947",
   "metadata": {},
   "source": [
    "La abundancia isotópica se define como el porcentaje de átomos de la mezcla de isótopos. La composición de la muestra se puede calcular así:\n",
    "\n",
    "$$ mtotal_U = N_{U234} * m_{U234} + N_{U235} * m_{U235} + N_{U238} * m_{U238}$$\n",
    "\n",
    "El número de núcleos de cada isótopo se calcula multiplicando la abundancia isotópica por el número total de átomos de uranio de la muestra:\n",
    "\n",
    "$$ mtotal_U = Ab_{U234} * N_{muestra} * m_{U234} + Ab_{U235} * N_{muestra} * m_{U235} + Ab_{U238} * N_{muestra} * m_{U238}$$\n",
    "\n",
    "Despejamos la cantidad de átomos de la muestra:\n",
    "\n",
    "$$ N_{muestra} = \\frac{mtotal_U}{Ab_{U234} * m_{U234} + Ab_{U235} * m_{U235} + Ab_{U238} * m_{U238}}$$"
   ]
  },
  {
   "cell_type": "code",
   "execution_count": 1,
   "id": "ab7b5051",
   "metadata": {},
   "outputs": [],
   "source": [
    "import numpy as np\n",
    "from pint import UnitRegistry\n",
    "u = UnitRegistry()"
   ]
  },
  {
   "cell_type": "code",
   "execution_count": 2,
   "id": "dbe8baa4",
   "metadata": {},
   "outputs": [],
   "source": [
    "# masa total de la muestra\n",
    "mtotal_U = 15 * u('g')\n",
    "\n",
    "# abundancias isotópicas\n",
    "Ab_U234 = 0.0054/100\n",
    "Ab_U235 = 0.7204/100\n",
    "Ab_U238 = 99.2742/100\n",
    "\n",
    "# número de Avogadro\n",
    "Av = 6.023e23\n",
    "\n",
    "# masas atómicas de los isótopos\n",
    "m_U234 = 234 * u('g') / Av\n",
    "m_U235 = 235 * u('g') / Av\n",
    "m_U238 = 238 * u('g') / Av"
   ]
  },
  {
   "cell_type": "markdown",
   "id": "9d7153e0",
   "metadata": {},
   "source": [
    "La cantidad de átomos de la muestra es entonces:"
   ]
  },
  {
   "cell_type": "code",
   "execution_count": 3,
   "id": "1b36be12",
   "metadata": {},
   "outputs": [
    {
     "data": {
      "text/html": [
       "3.796356583493717×10<sup>22</sup> dimensionless"
      ],
      "text/latex": [
       "$3.796356583493717\\times 10^{22}\\ dimensionless$"
      ],
      "text/plain": [
       "3.796356583493717e+22 <Unit('dimensionless')>"
      ]
     },
     "execution_count": 3,
     "metadata": {},
     "output_type": "execute_result"
    }
   ],
   "source": [
    "N = mtotal_U / (Ab_U234 * m_U234 + Ab_U235 * m_U235 + Ab_U238 * m_U238)\n",
    "N"
   ]
  },
  {
   "cell_type": "markdown",
   "id": "98d52c2d",
   "metadata": {},
   "source": [
    "### Cálculo de la cantidad de cada uno de los 3 isótopos\n",
    "\n",
    "La cantidad de átomos de U-234 es:"
   ]
  },
  {
   "cell_type": "code",
   "execution_count": 4,
   "id": "6ea938e1",
   "metadata": {},
   "outputs": [
    {
     "data": {
      "text/html": [
       "2.0500325550866076×10<sup>18</sup> dimensionless"
      ],
      "text/latex": [
       "$2.0500325550866076\\times 10^{18}\\ dimensionless$"
      ],
      "text/plain": [
       "2.0500325550866076e+18 <Unit('dimensionless')>"
      ]
     },
     "execution_count": 4,
     "metadata": {},
     "output_type": "execute_result"
    }
   ],
   "source": [
    "N_U234 = Ab_U234 * N\n",
    "N_U234"
   ]
  },
  {
   "cell_type": "markdown",
   "id": "92de1a5d",
   "metadata": {},
   "source": [
    "La cantidad de átomos de U-235 es:"
   ]
  },
  {
   "cell_type": "code",
   "execution_count": 5,
   "id": "2247d6d8",
   "metadata": {},
   "outputs": [
    {
     "data": {
      "text/html": [
       "2.734895282748874×10<sup>20</sup> dimensionless"
      ],
      "text/latex": [
       "$2.734895282748874\\times 10^{20}\\ dimensionless$"
      ],
      "text/plain": [
       "2.734895282748874e+20 <Unit('dimensionless')>"
      ]
     },
     "execution_count": 5,
     "metadata": {},
     "output_type": "execute_result"
    }
   ],
   "source": [
    "N_U235 = Ab_U235 * N\n",
    "N_U235"
   ]
  },
  {
   "cell_type": "markdown",
   "id": "0ac5b199",
   "metadata": {},
   "source": [
    "La cantidad de átomos de U-238 es:"
   ]
  },
  {
   "cell_type": "code",
   "execution_count": 6,
   "id": "71b414af",
   "metadata": {},
   "outputs": [
    {
     "data": {
      "text/html": [
       "3.7688026274107195×10<sup>22</sup> dimensionless"
      ],
      "text/latex": [
       "$3.7688026274107195\\times 10^{22}\\ dimensionless$"
      ],
      "text/plain": [
       "3.7688026274107195e+22 <Unit('dimensionless')>"
      ]
     },
     "execution_count": 6,
     "metadata": {},
     "output_type": "execute_result"
    }
   ],
   "source": [
    "N_U238 = Ab_U238 * N\n",
    "N_U238"
   ]
  },
  {
   "cell_type": "markdown",
   "id": "fdb9c78f",
   "metadata": {},
   "source": [
    "## Parte 2\n",
    "\n",
    "**Si se tiene una muestra de 10 ng de U-234 ¿Cuál es la actividad presente en la muestra? Indique las principales emisiones del U-234 y sus núcleos hija**"
   ]
  },
  {
   "cell_type": "markdown",
   "id": "1c50b580",
   "metadata": {},
   "source": [
    "Como 1 mol de átomos de U-234 pesan 234 gramos, despejamos la cantidad de átomos que pesan 10 ng usando una regla de 3 simple:\n",
    "\n",
    "1 mol de U234 --- 234 g\n",
    "\n",
    "Num_U234 ----------- 10 ng\n",
    "\n",
    "$$Num_{U234} = \\frac{10 ng \\cdot Av }{234 g}$$"
   ]
  },
  {
   "cell_type": "code",
   "execution_count": 7,
   "id": "c355ac2a",
   "metadata": {},
   "outputs": [
    {
     "data": {
      "text/html": [
       "25739316239316.242 dimensionless"
      ],
      "text/latex": [
       "$25739316239316.242\\ dimensionless$"
      ],
      "text/plain": [
       "25739316239316.242 <Unit('dimensionless')>"
      ]
     },
     "execution_count": 7,
     "metadata": {},
     "output_type": "execute_result"
    }
   ],
   "source": [
    "mmolar_U234 = 234 * u('g')\n",
    "muestra_U234 = 10 * u('ng')\n",
    "\n",
    "Num_U234 = muestra_U234 * Av / mmolar_U234\n",
    "Num_U234.to('')"
   ]
  },
  {
   "cell_type": "markdown",
   "id": "ee597bf3",
   "metadata": {},
   "source": [
    "La actividad se calcula a partir del número de átomos de la muestra:\n",
    "    \n",
    "$$A = \\lambda \\cdot N$$"
   ]
  },
  {
   "cell_type": "markdown",
   "id": "6b3e9d03",
   "metadata": {},
   "source": [
    "El dato que tenemos del U-234 es su semiperíodo de desintegración (T1/2):\n",
    "$$T_{1/2} = 2.455 \\cdot 10^5 años$$"
   ]
  },
  {
   "cell_type": "code",
   "execution_count": 8,
   "id": "b00f2df0",
   "metadata": {},
   "outputs": [
    {
     "data": {
      "text/html": [
       "2.82341010411383×10<sup>-6</sup> 1/year"
      ],
      "text/latex": [
       "$2.82341010411383\\times 10^{-6}\\ \\frac{1}{\\mathrm{year}}$"
      ],
      "text/plain": [
       "2.82341010411383e-06 <Unit('1 / year')>"
      ]
     },
     "execution_count": 8,
     "metadata": {},
     "output_type": "execute_result"
    }
   ],
   "source": [
    "tmedio_U234 = 2.455e5 * u('years')\n",
    "lmb_U234 = np.log(2) / tmedio_U234\n",
    "lmb_U234"
   ]
  },
  {
   "cell_type": "code",
   "execution_count": 9,
   "id": "c5308a61",
   "metadata": {},
   "outputs": [
    {
     "data": {
      "text/html": [
       "62.23938307152691 picocurie"
      ],
      "text/latex": [
       "$62.23938307152691\\ \\mathrm{picocurie}$"
      ],
      "text/plain": [
       "62.23938307152691 <Unit('picocurie')>"
      ]
     },
     "execution_count": 9,
     "metadata": {},
     "output_type": "execute_result"
    }
   ],
   "source": [
    "A = lmb_U234 * Num_U234\n",
    "A.to('pCi')"
   ]
  },
  {
   "cell_type": "code",
   "execution_count": 10,
   "id": "162ba620",
   "metadata": {},
   "outputs": [
    {
     "data": {
      "text/html": [
       "2.302857173646496 becquerel"
      ],
      "text/latex": [
       "$2.302857173646496\\ \\mathrm{becquerel}$"
      ],
      "text/plain": [
       "2.302857173646496 <Unit('becquerel')>"
      ]
     },
     "execution_count": 10,
     "metadata": {},
     "output_type": "execute_result"
    }
   ],
   "source": [
    "A.to('Bq')"
   ]
  },
  {
   "cell_type": "markdown",
   "id": "51096238",
   "metadata": {},
   "source": [
    "Las emisiones principales son partículas alfa y decae en Thorio-230."
   ]
  },
  {
   "cell_type": "markdown",
   "id": "c6c0ab63",
   "metadata": {},
   "source": [
    "![U234](decaimiento-del-u234.png)"
   ]
  }
 ],
 "metadata": {
  "kernelspec": {
   "display_name": "Python 3 (ipykernel)",
   "language": "python",
   "name": "python3"
  },
  "language_info": {
   "codemirror_mode": {
    "name": "ipython",
    "version": 3
   },
   "file_extension": ".py",
   "mimetype": "text/x-python",
   "name": "python",
   "nbconvert_exporter": "python",
   "pygments_lexer": "ipython3",
   "version": "3.10.6"
  }
 },
 "nbformat": 4,
 "nbformat_minor": 5
}
