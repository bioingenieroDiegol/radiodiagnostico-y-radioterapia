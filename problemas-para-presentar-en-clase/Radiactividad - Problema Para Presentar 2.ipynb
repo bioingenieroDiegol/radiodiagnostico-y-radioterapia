{
 "cells": [
  {
   "cell_type": "markdown",
   "id": "b0eaef06",
   "metadata": {},
   "source": [
    "# Problema 2\n",
    "\n",
    "Una fuente patrón de Co-60, utilizada en calibración, se deja decaer antes de\n",
    "desecharla. Si inicialmente tiene 5 μCi, ¿en cuánto tiempo decae al 1%? Si se desechara\n",
    "luego que decae a 0.1 μCi, ¿cuánto tiempo debería almacenarse?\n",
    "Repita los cálculos para una fuente de Co-57. Grafique ambas curvas (actividad vs.\n",
    "tiempo) en un único sistema de coordenadas."
   ]
  },
  {
   "cell_type": "code",
   "execution_count": 1,
   "id": "833d5ac9",
   "metadata": {},
   "outputs": [],
   "source": [
    "import numpy as np\n",
    "from pint import UnitRegistry\n",
    "u = UnitRegistry()"
   ]
  },
  {
   "cell_type": "markdown",
   "id": "a9dbdccf",
   "metadata": {},
   "source": [
    "## Parte 1: Co-60"
   ]
  },
  {
   "cell_type": "markdown",
   "id": "4b04a520",
   "metadata": {},
   "source": [
    "La actividad correspondiente al 1% de la actividad inicial es:"
   ]
  },
  {
   "cell_type": "code",
   "execution_count": 2,
   "id": "e1df481b",
   "metadata": {},
   "outputs": [
    {
     "data": {
      "text/html": [
       "0.05 microcurie"
      ],
      "text/latex": [
       "$0.05\\ \\mathrm{microcurie}$"
      ],
      "text/plain": [
       "0.05 <Unit('microcurie')>"
      ]
     },
     "execution_count": 2,
     "metadata": {},
     "output_type": "execute_result"
    }
   ],
   "source": [
    "A0 = 5 * u('uCi')\n",
    "A = A0/100\n",
    "A"
   ]
  },
  {
   "cell_type": "markdown",
   "id": "bd93b979",
   "metadata": {},
   "source": [
    "El Co-60 decae según la ecuación general de la radiactividad. De allí despejamos el tiempo:\n",
    "$$ t = - \\frac{1}{\\lambda} \\cdot \\ln \\frac{A}{A_0}$$\n",
    "\n",
    "Ahora podemos calcular cuánto tarda la muestra en decaer desde $5 \\mu Ci$ hasta $50 nCi$, sabiendo que el semiperíodo de desintegración es de 1925.28 días = 5.27 años (según Nudat 3)."
   ]
  },
  {
   "cell_type": "code",
   "execution_count": 3,
   "id": "48302f86",
   "metadata": {},
   "outputs": [
    {
     "data": {
      "text/html": [
       "35.02062544845853 year"
      ],
      "text/latex": [
       "$35.02062544845853\\ \\mathrm{year}$"
      ],
      "text/plain": [
       "35.02062544845853 <Unit('year')>"
      ]
     },
     "execution_count": 3,
     "metadata": {},
     "output_type": "execute_result"
    }
   ],
   "source": [
    "Tmedio = 1925.28 * u('days')\n",
    "lmbd = np.log(2)/Tmedio\n",
    "t = -1/lmbd * np.log(A/A0)\n",
    "t.to('years')"
   ]
  },
  {
   "cell_type": "markdown",
   "id": "fcfe151f",
   "metadata": {},
   "source": [
    "Si en vez de esperar a que decaiga a 50 nC, se desecha cuando tiene una actividad de 100 nCi, el cálculo es idéntico y sólo cambia la actividad final:"
   ]
  },
  {
   "cell_type": "code",
   "execution_count": 4,
   "id": "a1222cf1",
   "metadata": {},
   "outputs": [
    {
     "data": {
      "text/html": [
       "29.749496085008843 year"
      ],
      "text/latex": [
       "$29.749496085008843\\ \\mathrm{year}$"
      ],
      "text/plain": [
       "29.749496085008843 <Unit('year')>"
      ]
     },
     "execution_count": 4,
     "metadata": {},
     "output_type": "execute_result"
    }
   ],
   "source": [
    "Af = 0.1 * u('uCi')\n",
    "t = -1/lmbd * np.log(Af/A0)\n",
    "t.to('years')"
   ]
  },
  {
   "cell_type": "markdown",
   "id": "79ff0dcf",
   "metadata": {},
   "source": [
    "## Parte 2: Co-57"
   ]
  },
  {
   "cell_type": "markdown",
   "id": "a3485123",
   "metadata": {},
   "source": [
    "El tiempo que tarda en decaer una muestra de $5 \\mu Ci$ hasta $50 nCi$ es:"
   ]
  },
  {
   "cell_type": "code",
   "execution_count": 5,
   "id": "690b0a2f",
   "metadata": {},
   "outputs": [
    {
     "data": {
      "text/html": [
       "4.942919865871002 year"
      ],
      "text/latex": [
       "$4.942919865871002\\ \\mathrm{year}$"
      ],
      "text/plain": [
       "4.942919865871002 <Unit('year')>"
      ]
     },
     "execution_count": 5,
     "metadata": {},
     "output_type": "execute_result"
    }
   ],
   "source": [
    "Tmedio = 271.74 * u('days')\n",
    "lmbd = np.log(2)/Tmedio\n",
    "t = -1/lmbd * np.log(A/A0)\n",
    "t.to('years')"
   ]
  },
  {
   "cell_type": "markdown",
   "id": "91cb55d1",
   "metadata": {},
   "source": [
    "El tiempo que tarda en decaer una muestra de $5 \\mu Ci$ hasta $100 nCi$ es:"
   ]
  },
  {
   "cell_type": "code",
   "execution_count": 6,
   "id": "c7a8a9fb",
   "metadata": {},
   "outputs": [
    {
     "data": {
      "text/html": [
       "4.198936292975725 year"
      ],
      "text/latex": [
       "$4.198936292975725\\ \\mathrm{year}$"
      ],
      "text/plain": [
       "4.198936292975725 <Unit('year')>"
      ]
     },
     "execution_count": 6,
     "metadata": {},
     "output_type": "execute_result"
    }
   ],
   "source": [
    "Af = 0.1 * u('uCi')\n",
    "t = -1/lmbd * np.log(Af/A0)\n",
    "t.to('years')"
   ]
  }
 ],
 "metadata": {
  "kernelspec": {
   "display_name": "Python 3 (ipykernel)",
   "language": "python",
   "name": "python3"
  },
  "language_info": {
   "codemirror_mode": {
    "name": "ipython",
    "version": 3
   },
   "file_extension": ".py",
   "mimetype": "text/x-python",
   "name": "python",
   "nbconvert_exporter": "python",
   "pygments_lexer": "ipython3",
   "version": "3.10.6"
  }
 },
 "nbformat": 4,
 "nbformat_minor": 5
}
