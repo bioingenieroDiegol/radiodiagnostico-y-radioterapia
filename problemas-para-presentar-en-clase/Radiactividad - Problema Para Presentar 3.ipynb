{
 "cells": [
  {
   "cell_type": "code",
   "execution_count": 1,
   "id": "62ece117",
   "metadata": {},
   "outputs": [],
   "source": [
    "from pint import UnitRegistry\n",
    "u = UnitRegistry()\n",
    "\n",
    "import numpy as np"
   ]
  },
  {
   "cell_type": "markdown",
   "id": "2dab4bb9",
   "metadata": {},
   "source": [
    "# Problema 3"
   ]
  },
  {
   "cell_type": "markdown",
   "id": "ee1b9568",
   "metadata": {},
   "source": [
    "Se tiene una muestra de sedimento que tiene Pb-210 en su composición. Su peso\n",
    "es 1 g y la actividad medida es de 0,0075 Bq. Calcule la edad del sedimento, si su\n",
    "actividad basal es de 25,2 Bq/kg."
   ]
  },
  {
   "cell_type": "markdown",
   "id": "aafd492f",
   "metadata": {},
   "source": [
    "Para calcular la actividad original de la muestra, usamos la actividad basal:"
   ]
  },
  {
   "cell_type": "code",
   "execution_count": 2,
   "id": "aa92751b",
   "metadata": {},
   "outputs": [
    {
     "data": {
      "text/html": [
       "0.0252 becquerel"
      ],
      "text/latex": [
       "$0.0252\\ \\mathrm{becquerel}$"
      ],
      "text/plain": [
       "0.0252 <Unit('becquerel')>"
      ]
     },
     "execution_count": 2,
     "metadata": {},
     "output_type": "execute_result"
    }
   ],
   "source": [
    "m = 1 * u('g')\n",
    "Abasal = 25.2 * u('Bq/kg')\n",
    "\n",
    "A0 = m * Abasal\n",
    "A0.to('Bq')"
   ]
  },
  {
   "cell_type": "markdown",
   "id": "7aa57464",
   "metadata": {},
   "source": [
    "La actividad actual es de 0.0075 Bq. El Pb-210 decae con un semiperíodo de desintegración de 22.2 años (ver en Nudat). De la ecuación general de la radiactividad podemos despejar t:\n",
    "$$ t = - \\frac{1}{\\lambda} \\cdot \\ln \\frac{A}{A_0}$$"
   ]
  },
  {
   "cell_type": "code",
   "execution_count": 3,
   "id": "702d612a",
   "metadata": {},
   "outputs": [
    {
     "data": {
      "text/html": [
       "38.81583937268959 year"
      ],
      "text/latex": [
       "$38.81583937268959\\ \\mathrm{year}$"
      ],
      "text/plain": [
       "38.81583937268959 <Unit('year')>"
      ]
     },
     "execution_count": 3,
     "metadata": {},
     "output_type": "execute_result"
    }
   ],
   "source": [
    "A = 0.0075 * u('Bq')\n",
    "Tmedio = 22.20 * u('years')\n",
    "lmbd = np.log(2)/Tmedio\n",
    "t = -1/lmbd * np.log(A/A0)\n",
    "t"
   ]
  }
 ],
 "metadata": {
  "kernelspec": {
   "display_name": "Python 3 (ipykernel)",
   "language": "python",
   "name": "python3"
  },
  "language_info": {
   "codemirror_mode": {
    "name": "ipython",
    "version": 3
   },
   "file_extension": ".py",
   "mimetype": "text/x-python",
   "name": "python",
   "nbconvert_exporter": "python",
   "pygments_lexer": "ipython3",
   "version": "3.10.6"
  }
 },
 "nbformat": 4,
 "nbformat_minor": 5
}
