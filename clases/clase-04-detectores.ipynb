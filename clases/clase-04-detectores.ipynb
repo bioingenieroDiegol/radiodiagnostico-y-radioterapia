{
 "cells": [
  {
   "cell_type": "code",
   "execution_count": 1,
   "id": "6d0a6f12",
   "metadata": {},
   "outputs": [],
   "source": [
    "from pint import UnitRegistry\n",
    "import math\n",
    "u = UnitRegistry()"
   ]
  },
  {
   "cell_type": "markdown",
   "id": "1d3c6c4e",
   "metadata": {},
   "source": [
    "# Problema de Detectores (de mi clase)\n",
    "\n",
    "Se cuenta con un dosímetro [Arrow Tech Inc Model 138](https://www.dosimeter.com/direct-reading-dosimeters/direct-reading-dosimeter-w138-0-200mr-with-sapphire-window/) sometido a una fuente emisora de fotones de 200 keV, para los cuales presenta una eficiencia de 1.8%. Suponer que su volumen activo es una quinta parte de su volumen total, y que su capacidad es de 75 pF.\n",
    "\n",
    "![Dosimetro](imagenes/detectores/dosimetro-arrow-138.jpg)\n",
    "\n",
    "1. Calcular la caída de voltaje que se produce al recibir una dosis de 1.3 mGy.\n",
    "2. Se carga inicialmente el dosímetro con 10 V. ¿Cuántos fotones habrán atravesado el dosímetro para que se descargue a la mitad?\n",
    "3. ¿A qué dosis corresponderá esa descarga?\n",
    "4. ¿Es necesario corregir la lectura por las condiciones ambientales?\n"
   ]
  },
  {
   "cell_type": "markdown",
   "id": "a30f6eaf",
   "metadata": {},
   "source": [
    "# Parte 1\n",
    "\n",
    "## Calcular la caída de voltaje que se produce al recibir una dosis de 1.3 mGy."
   ]
  },
  {
   "cell_type": "markdown",
   "id": "3f520feb",
   "metadata": {},
   "source": [
    "El dosímetro es un capacitor, cuya variación de voltaje cumple con la siguiente ecuación:\n",
    "    \n",
    "$$\\Delta q = C \\cdot \\Delta V$$"
   ]
  },
  {
   "cell_type": "markdown",
   "id": "02e65c0d",
   "metadata": {},
   "source": [
    "La capacitancia del dosímetro es dato del problema. Para responder hay que encontrar la cantidad de carga producida por esa dosis. Para ello partimos de la definición de exposición:\n",
    "\n",
    "$$X = \\frac{q}{m}$$\n",
    "\n",
    "Además sabemos que hay una relación fija entre exposición y dosis para cada material. En aire:\n",
    "\n",
    "$$D_{aire} = \\left( \\frac{\\bar W}{e} \\right) _{aire} \\cdot X = f \\cdot X$$\n",
    "\n",
    "donde $$f = \\left( \\frac{\\bar W}{e} \\right) _{aire} = 33.97 \\left[ \\frac{J}{C} \\right]$$"
   ]
  },
  {
   "cell_type": "markdown",
   "id": "583daa99",
   "metadata": {},
   "source": [
    "Podemos expresar:\n",
    "\n",
    "$$q = X \\cdot m =  \\frac{D_{aire}}{f} \\cdot m$$\n",
    "\n",
    "Finalmente tenemos la ecuación para la caída de voltaje:\n",
    "    \n",
    "$$\\Delta V = \\frac{q}{C} = \\frac{D_{aire} \\cdot m}{f \\cdot C} $$"
   ]
  },
  {
   "cell_type": "markdown",
   "id": "32bd0147",
   "metadata": {},
   "source": [
    "La masa de aire que se ioniza en la zona activa del dosimetro se puede calcular considerando el volumen activo del dosímetro, que es un quinto del volumen del cilindro:\n",
    "\n",
    "$$\\text{Vol} = \\frac{1}{5} \\cdot \\pi r^2 h = \\frac{1}{5} \\cdot \\frac{\\pi d^2 h}{4}$$\n",
    "\n",
    "$$ m = \\rho_{aire} \\cdot \\text{Vol}$$"
   ]
  },
  {
   "cell_type": "markdown",
   "id": "535cdb81",
   "metadata": {},
   "source": [
    "Empezamos los cálculos resolviendo el valor de la masa de aire:"
   ]
  },
  {
   "cell_type": "code",
   "execution_count": 2,
   "id": "d45120d4",
   "metadata": {},
   "outputs": [
    {
     "data": {
      "text/html": [
       "5.280938710868102 milligram"
      ],
      "text/latex": [
       "$5.280938710868102\\ \\mathrm{milligram}$"
      ],
      "text/plain": [
       "5.280938710868102 <Unit('milligram')>"
      ]
     },
     "execution_count": 2,
     "metadata": {},
     "output_type": "execute_result"
    }
   ],
   "source": [
    "d = 1.5 * u('cm')    # diámetro (de la hoja de datos del detector)\n",
    "h = 12.4 * u('cm')   # longitud (de la hoja de datos del detector)\n",
    "\n",
    "dens_aire = 1.205E-03 * u('g/cm^3')    # dato (por ejemplo figura en NIST)\n",
    "\n",
    "Vol = (1/5) * math.pi * d**2 * h / 4 \n",
    "\n",
    "m = dens_aire * Vol\n",
    "m.to('mg')"
   ]
  },
  {
   "cell_type": "markdown",
   "id": "b1896166",
   "metadata": {},
   "source": [
    "Luego calculamos la caida de voltaje que se produce:"
   ]
  },
  {
   "cell_type": "code",
   "execution_count": 3,
   "id": "91723d19",
   "metadata": {},
   "outputs": [
    {
     "data": {
      "text/html": [
       "2.4873423424754086×10<sup>-6</sup> coulomb gram milligray/(joule picofarad)"
      ],
      "text/latex": [
       "$2.4873423424754086\\times 10^{-6}\\ \\frac{\\mathrm{coulomb} \\cdot \\mathrm{gram} \\cdot \\mathrm{milligray}}{\\left(\\mathrm{joule} \\cdot \\mathrm{picofarad}\\right)}$"
      ],
      "text/plain": [
       "2.4873423424754086e-06 <Unit('coulomb * gram * milligray / joule / picofarad')>"
      ]
     },
     "execution_count": 3,
     "metadata": {},
     "output_type": "execute_result"
    }
   ],
   "source": [
    "Daire = 1.2 * u('mGy')\n",
    "f = 33.97 * u('J/C')\n",
    "C = 75 * u('pF')\n",
    "deltaV = Daire * m / (f * C)\n",
    "deltaV"
   ]
  },
  {
   "cell_type": "code",
   "execution_count": 4,
   "id": "b1aa1765",
   "metadata": {},
   "outputs": [
    {
     "data": {
      "text/html": [
       "2.4873423424754084 volt"
      ],
      "text/latex": [
       "$2.4873423424754084\\ \\mathrm{volt}$"
      ],
      "text/plain": [
       "2.4873423424754084 <Unit('volt')>"
      ]
     },
     "execution_count": 4,
     "metadata": {},
     "output_type": "execute_result"
    }
   ],
   "source": [
    "deltaV.to('V')"
   ]
  },
  {
   "cell_type": "markdown",
   "id": "fdcacf98",
   "metadata": {},
   "source": [
    "# Parte 2\n",
    "\n",
    "## Se carga inicialmente el dosímetro con 10 V. ¿Cuántos fotones habrán atravesado el dosímetro para que se descargue a la mitad?"
   ]
  },
  {
   "cell_type": "markdown",
   "id": "f568b8bc",
   "metadata": {},
   "source": [
    "De la ecuación del capacitor podemos despejar la cantidad de carga depositada para generar una variación de 5V:\n",
    "\n",
    "$$\\Delta q = C \\Delta V$$\n",
    "\n",
    "Para calcular la cantidad de cargas producidas, dividimos la carga total depositada por la carga elemental:\n",
    "\n",
    "$$n = \\frac{\\Delta q}{q_e} = \\frac{C \\Delta V}{q_e}$$\n",
    "\n",
    "donde $q_e = 1.602176634×10^{−19} C$."
   ]
  },
  {
   "cell_type": "code",
   "execution_count": 5,
   "id": "68f3ff13",
   "metadata": {},
   "outputs": [
    {
     "data": {
      "text/html": [
       "2340565902.9227858 dimensionless"
      ],
      "text/latex": [
       "$2340565902.9227858\\ dimensionless$"
      ],
      "text/plain": [
       "2340565902.9227858 <Unit('dimensionless')>"
      ]
     },
     "execution_count": 5,
     "metadata": {},
     "output_type": "execute_result"
    }
   ],
   "source": [
    "deltaV = 5 * u('V')\n",
    "qe = 1.602176634e-19 * u('coulomb')\n",
    "n = C * deltaV / qe\n",
    "n.to('')"
   ]
  },
  {
   "cell_type": "markdown",
   "id": "5f8f162c",
   "metadata": {},
   "source": [
    "Para saber cuántos fotones deben interactuar para liberar esa cantidad de cargas, es preciso determinar cuánta carga libera cada fotón. Sabiendo que para producir una ionización en aire se necesitan 33,97 eV podemos calcular cuántos iones produce un fotón de 200 keV:\n",
    "\n",
    "$ionesPorFoton = \\frac{200 keV}{33.97 eV}$"
   ]
  },
  {
   "cell_type": "code",
   "execution_count": 6,
   "id": "ecd6c3b2",
   "metadata": {},
   "outputs": [
    {
     "data": {
      "text/html": [
       "5887.547836326171 dimensionless"
      ],
      "text/latex": [
       "$5887.547836326171\\ dimensionless$"
      ],
      "text/plain": [
       "5887.547836326171 <Unit('dimensionless')>"
      ]
     },
     "execution_count": 6,
     "metadata": {},
     "output_type": "execute_result"
    }
   ],
   "source": [
    "ionesPorFoton = 200 * u('keV') / (33.97 * u('eV'))\n",
    "ionesPorFoton.to('')"
   ]
  },
  {
   "cell_type": "markdown",
   "id": "a30a7328",
   "metadata": {},
   "source": [
    "Ahora sí podemos calcular la cantidad de fotones de 200 keV necesarios para generar los \"n\" iones que producen una caída de 5V en el capacitor:"
   ]
  },
  {
   "cell_type": "code",
   "execution_count": 7,
   "id": "817b6322",
   "metadata": {},
   "outputs": [
    {
     "data": {
      "text/html": [
       "397545.1186114352 dimensionless"
      ],
      "text/latex": [
       "$397545.1186114352\\ dimensionless$"
      ],
      "text/plain": [
       "397545.1186114352 <Unit('dimensionless')>"
      ]
     },
     "execution_count": 7,
     "metadata": {},
     "output_type": "execute_result"
    }
   ],
   "source": [
    "nroFotones = n / ionesPorFoton\n",
    "nroFotones.to('')"
   ]
  },
  {
   "cell_type": "markdown",
   "id": "d5d79afa",
   "metadata": {},
   "source": [
    "Como la eficiencia del detector para los fotones de 200 keV es del 1.8%, estos fotones son los que efectivamente interactuaron. Para calcular el total de fotones que atraviesan el detector consideramos la siguiente relación:\n",
    "\n",
    "|porcentaje| cantidad|\n",
    "|:---:|:---:|\n",
    "| 1.8% | 397545 fotones |\n",
    "| 100% | x fotones |"
   ]
  },
  {
   "cell_type": "code",
   "execution_count": 8,
   "id": "3ac97946",
   "metadata": {},
   "outputs": [
    {
     "data": {
      "text/html": [
       "22085839.92285751 dimensionless"
      ],
      "text/latex": [
       "$22085839.92285751\\ dimensionless$"
      ],
      "text/plain": [
       "22085839.92285751 <Unit('dimensionless')>"
      ]
     },
     "execution_count": 8,
     "metadata": {},
     "output_type": "execute_result"
    }
   ],
   "source": [
    "nroTotalFotones = nroFotones * 100 / 1.8\n",
    "nroTotalFotones.to('')"
   ]
  },
  {
   "cell_type": "markdown",
   "id": "13d02bfd",
   "metadata": {},
   "source": [
    "# Parte 3\n",
    "\n",
    "\n",
    "## ¿A qué dosis corresponderá esa descarga?"
   ]
  },
  {
   "cell_type": "markdown",
   "id": "2318b130",
   "metadata": {},
   "source": [
    "Recordamos que la dosis es la energía por unidad de masa. El total de energía depositada es la correspondiente al total de energía que entregan los fotones que interactúan con el detector:"
   ]
  },
  {
   "cell_type": "code",
   "execution_count": 9,
   "id": "920020f0",
   "metadata": {},
   "outputs": [
    {
     "data": {
      "text/html": [
       "1.2738749999999997×10<sup>-8</sup> joule"
      ],
      "text/latex": [
       "$1.2738749999999997\\times 10^{-8}\\ \\mathrm{joule}$"
      ],
      "text/plain": [
       "1.2738749999999997e-08 <Unit('joule')>"
      ]
     },
     "execution_count": 9,
     "metadata": {},
     "output_type": "execute_result"
    }
   ],
   "source": [
    "Efoton = 200 * u('keV')\n",
    "energiaEntregada = nroFotones * Efoton\n",
    "energiaEntregada.to('J')"
   ]
  },
  {
   "cell_type": "markdown",
   "id": "e7478d3e",
   "metadata": {},
   "source": [
    "La masa ya la tenemos calculada en la primera parte. Por defenición, la dosis se calcula como:"
   ]
  },
  {
   "cell_type": "code",
   "execution_count": 10,
   "id": "584deaee",
   "metadata": {},
   "outputs": [
    {
     "data": {
      "text/html": [
       "2.4122131873607655 milligray"
      ],
      "text/latex": [
       "$2.4122131873607655\\ \\mathrm{milligray}$"
      ],
      "text/plain": [
       "2.4122131873607655 <Unit('milligray')>"
      ]
     },
     "execution_count": 10,
     "metadata": {},
     "output_type": "execute_result"
    }
   ],
   "source": [
    "D = energiaEntregada / m\n",
    "D.to('mGy')"
   ]
  }
 ],
 "metadata": {
  "kernelspec": {
   "display_name": "Python 3 (ipykernel)",
   "language": "python",
   "name": "python3"
  },
  "language_info": {
   "codemirror_mode": {
    "name": "ipython",
    "version": 3
   },
   "file_extension": ".py",
   "mimetype": "text/x-python",
   "name": "python",
   "nbconvert_exporter": "python",
   "pygments_lexer": "ipython3",
   "version": "3.10.6"
  }
 },
 "nbformat": 4,
 "nbformat_minor": 5
}
