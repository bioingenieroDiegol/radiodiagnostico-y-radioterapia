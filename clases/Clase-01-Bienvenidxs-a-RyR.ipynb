{
 "cells": [
  {
   "cell_type": "code",
   "execution_count": 1,
   "metadata": {
    "slideshow": {
     "slide_type": "skip"
    }
   },
   "outputs": [],
   "source": [
    "# importar la clase de Python que permite ver videos\n",
    "from IPython.display import YouTubeVideo"
   ]
  },
  {
   "cell_type": "markdown",
   "metadata": {
    "slideshow": {
     "slide_type": "slide"
    }
   },
   "source": [
    "## Ver Video 1\n",
    "\n",
    "Este video tiene una duración de 18:30 minutos. Se muestra el manejo de las celdas del Jupyter Notebook, texto enriquecido, etc.\n",
    "\n",
    "También se explican los errores al asignar incorrectamente el tipo de celda (código o Markdown), cómo reiniciar el kernel del notebook, etc.\n",
    "\n",
    "El notebook asociado a ese video [se encuentra acá](../introduccion/01-intro.ipynb)"
   ]
  },
  {
   "cell_type": "code",
   "execution_count": 4,
   "metadata": {
    "slideshow": {
     "slide_type": "subslide"
    }
   },
   "outputs": [
    {
     "data": {
      "image/jpeg": "[encoded data removed]",
      "text/html": [
       "\n",
       "        <iframe\n",
       "            width=\"400\"\n",
       "            height=\"300\"\n",
       "            src=\"https://www.youtube.com/embed/uoWDS0JwqE4\"\n",
       "            frameborder=\"0\"\n",
       "            allowfullscreen\n",
       "        ></iframe>\n",
       "        "
      ],
      "text/plain": [
       "<IPython.lib.display.YouTubeVideo at 0x7f5af6497af0>"
      ]
     },
     "metadata": {},
     "output_type": "display_data"
    }
   ],
   "source": [
    "# crear una instancia del objeto YouTubeVideo\n",
    "video1 = YouTubeVideo('uoWDS0JwqE4')\n",
    "\n",
    "# mostrar el video de YouTube\n",
    "display(video1)"
   ]
  },
  {
   "cell_type": "markdown",
   "metadata": {
    "slideshow": {
     "slide_type": "slide"
    }
   },
   "source": [
    "### Actividad 1\n",
    "\n",
    "Explorar el entorno. Mirar los menúes y botones.\n",
    "\n",
    "Crear celdas vacías debajo de esta misma celda. Y luego borrarlas, dejando sólo dos.\n",
    "\n",
    "En la primera celda vacía escribir algunas lineas usando un título, negrita y una lista enumerada.\n",
    "En la segunda celda asignar un valor numérico a una variable y mostrar el cuadrado de ese valor."
   ]
  },
  {
   "cell_type": "markdown",
   "metadata": {
    "slideshow": {
     "slide_type": "slide"
    }
   },
   "source": [
    "### Actividad 2\n",
    "\n",
    "Corroborar la instalación de librerías numpy, matplotlib, pint.\n",
    "Si alguna no está instalada aparecerá un error: **consultar cómo se efectúa la instalación de librerías faltantes**."
   ]
  },
  {
   "cell_type": "code",
   "execution_count": 5,
   "metadata": {
    "slideshow": {
     "slide_type": "subslide"
    }
   },
   "outputs": [],
   "source": [
    "import numpy as np\n",
    "import matplotlib\n",
    "from pint import UnitRegistry"
   ]
  },
  {
   "cell_type": "markdown",
   "metadata": {
    "slideshow": {
     "slide_type": "slide"
    }
   },
   "source": [
    "## Ver Video 2\n",
    "\n",
    "Este video tiene una duración de 10:26 minutos. Se muestra cómo incluir imágenes, enlaces, videos, ecuaciones, tablas, etc.\n",
    "\n",
    "También se explican los errores al asignar incorrectamente el tipo de celda (código o Markdown), cómo reiniciar el kernel del notebook, etc.\n",
    "\n",
    "El notebook asociado a ese video [se encuentra acá](../introduccion/02-texto-enriquecido.ipynb)"
   ]
  },
  {
   "cell_type": "code",
   "execution_count": 4,
   "metadata": {
    "slideshow": {
     "slide_type": "subslide"
    }
   },
   "outputs": [
    {
     "data": {
      "image/jpeg": "[encoded data removed]",
      "text/html": [
       "\n",
       "        <iframe\n",
       "            width=\"400\"\n",
       "            height=\"300\"\n",
       "            src=\"https://www.youtube.com/embed/sECj1FBQQW0\"\n",
       "            frameborder=\"0\"\n",
       "            allowfullscreen\n",
       "        ></iframe>\n",
       "        "
      ],
      "text/plain": [
       "<IPython.lib.display.YouTubeVideo at 0x7f8e0ceea580>"
      ]
     },
     "metadata": {},
     "output_type": "display_data"
    }
   ],
   "source": [
    "video2 = YouTubeVideo('sECj1FBQQW0')\n",
    "display(video2)"
   ]
  },
  {
   "cell_type": "markdown",
   "metadata": {
    "slideshow": {
     "slide_type": "slide"
    }
   },
   "source": [
    "### Actividad 3\n",
    "\n",
    "Escribir con Latex en una celda Markdown la siguiente ecuación (de Nernst): \n",
    "\n",
    "EK+ = RT / zF * ln ([K+]o / [K+]i)"
   ]
  },
  {
   "cell_type": "markdown",
   "metadata": {
    "slideshow": {
     "slide_type": "slide"
    }
   },
   "source": [
    "## Funciones (video pendiente)\n",
    "\n",
    "### Actividad 4\n",
    "\n",
    "Explorar el notebook [sobre funciones](../introduccion/06-funciones.ipynb). \n",
    "\n",
    "Definir una función de interpolación lineal que reciba un punto inicial (xi, yi) y un punto final (xf, yf), y permita encontrar el valor de ***y*** para cualquier xi < ***x*** < xf. \n",
    "\n",
    "Suponer:\n",
    "\n",
    "* Pi = (xi, yi) = (1, 5)\n",
    "* Pf = (xf, yf) = (3, 10)\n",
    "* calcular el valor de la función para x = 2.\n",
    "\n",
    "Un tipo de dato en Python que puede simplificar la construcción de la función es la tupla, que es un conjunto ordenado de datos. Cada punto se puede representar como una tupla de dos elementos."
   ]
  },
  {
   "cell_type": "code",
   "execution_count": 6,
   "metadata": {
    "slideshow": {
     "slide_type": "subslide"
    }
   },
   "outputs": [
    {
     "name": "stdout",
     "output_type": "stream",
     "text": [
      "1\n",
      "5\n"
     ]
    }
   ],
   "source": [
    "# definimos el punto inicial como una tupla\n",
    "\n",
    "pi = (1, 5)\n",
    "\n",
    "# acceso al elemento x\n",
    "\n",
    "print(pi[0])\n",
    "\n",
    "# acceso al elemento y\n",
    "\n",
    "print(pi[1])"
   ]
  },
  {
   "cell_type": "markdown",
   "metadata": {
    "slideshow": {
     "slide_type": "subslide"
    }
   },
   "source": [
    "El encabezado de la función podría tener esta forma:\n",
    "``` Python\n",
    "def interpolar(pi, pf, x):\n",
    "```"
   ]
  },
  {
   "cell_type": "markdown",
   "metadata": {
    "slideshow": {
     "slide_type": "slide"
    }
   },
   "source": [
    "## Ver Video 3\n",
    "\n",
    "\n",
    "Este video tiene una duración de 12:40 minutos. Se muestra el uso de Pint, la librería de Python que permite unir magnitudes y unidades en los cálculos.\n",
    "\n",
    "También un pantallazo sobre la posibilidad de graficar funciones con la maravillosa librería Matplotlib.\n",
    "\n",
    "El notebook asociado a ese video [se encuentra acá](../introduccion/03-pint.ipynb)"
   ]
  },
  {
   "cell_type": "code",
   "execution_count": 5,
   "metadata": {
    "slideshow": {
     "slide_type": "subslide"
    }
   },
   "outputs": [
    {
     "data": {
      "image/jpeg": "[encoded data removed]",
      "text/html": [
       "\n",
       "        <iframe\n",
       "            width=\"400\"\n",
       "            height=\"300\"\n",
       "            src=\"https://www.youtube.com/embed/NWI7v0gd4SE\"\n",
       "            frameborder=\"0\"\n",
       "            allowfullscreen\n",
       "        ></iframe>\n",
       "        "
      ],
      "text/plain": [
       "<IPython.lib.display.YouTubeVideo at 0x7f8e24557af0>"
      ]
     },
     "metadata": {},
     "output_type": "display_data"
    }
   ],
   "source": [
    "video3 = YouTubeVideo('NWI7v0gd4SE')\n",
    "display(video3)"
   ]
  },
  {
   "cell_type": "markdown",
   "metadata": {
    "slideshow": {
     "slide_type": "slide"
    }
   },
   "source": [
    "### Actividad 4\n",
    "\n",
    "Usar las funciones para calcular la actividad de una muestra de Co-60. Considerar una actividad inicial de 50 Ci y determinar cuánta actividad queda luego de 5 años. El semiperíodo de desintegración ($\\tau$) del Co-60 es 5.271 años. **No utilizar la librería Pint, considerar que todos los tiempos están dados en años y las actividades en Curies**.\n",
    "\n",
    "$$A = A_0 \\cdot e^{-\\frac{ln(2)}{\\tau} t}$$"
   ]
  },
  {
   "cell_type": "markdown",
   "metadata": {
    "slideshow": {
     "slide_type": "slide"
    }
   },
   "source": [
    "### Actividad 5\n",
    "\n",
    "Graficar la actividad de la muestra anterior de Co-60 en un período de 25 años."
   ]
  },
  {
   "cell_type": "markdown",
   "metadata": {
    "slideshow": {
     "slide_type": "slide"
    }
   },
   "source": [
    "### Actividad 6\n",
    "\n",
    "Construir una función para calcular la aceleración de un cuerpo de masa m que recibe una fuerza F. Pueden utilizar el notebook **06-funciones** como referencia.\n",
    "\n",
    "$$a = \\frac{F}{m}$$"
   ]
  },
  {
   "cell_type": "markdown",
   "metadata": {
    "slideshow": {
     "slide_type": "subslide"
    }
   },
   "source": [
    "Utilizar la librería Pint para calcular el valor de la aceleración (en $m/s^2$ y en $pulgadas/hora^2$) para:\n",
    "    \n",
    "    1. F = 5 N y m = 5 kg\n",
    "    2. F = 100 kgf y m = 1 tonelada\n",
    "    \n",
    "En el siguiente enlace encontrarán las unidades ya definidas:\n",
    "\n",
    "+ **[Unidades en la librería Pint](https://github.com/hgrecco/pint/blob/master/pint/default_en.txt)**"
   ]
  }
 ],
 "metadata": {
  "celltoolbar": "Slideshow",
  "kernelspec": {
   "display_name": "Python 3",
   "language": "python",
   "name": "python3"
  },
  "language_info": {
   "codemirror_mode": {
    "name": "ipython",
    "version": 3
   },
   "file_extension": ".py",
   "mimetype": "text/x-python",
   "name": "python",
   "nbconvert_exporter": "python",
   "pygments_lexer": "ipython3",
   "version": "3.8.5"
  }
 },
 "nbformat": 4,
 "nbformat_minor": 4
}
