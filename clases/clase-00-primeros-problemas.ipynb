{
 "cells": [
  {
   "cell_type": "markdown",
   "id": "ba371274",
   "metadata": {},
   "source": [
    "## Ejercicio #1\n",
    "\n",
    "Calcular el número de núcleos de F-18 (semiperíodo: 109.77 minutos) 4 horas después de tener 10.000 núcleos.\n"
   ]
  },
  {
   "cell_type": "markdown",
   "id": "610ce569",
   "metadata": {},
   "source": [
    "La función que permite calcular el número de núcleos presentes en una muestra a lo largo del tiempo es:\n",
    "\n",
    "$N = N_0 \\cdot e^{-\\lambda \\cdot t}$\n",
    "\n",
    "Donde lambda es la constante de desintegración y $N_0$ es el número de nucleos inicialmente. En las tablas de características de los radionucleidos suele figurar el semiperíodo de desintegración ($T_{\\frac{1}{2}} = T_m$), a partir del cual se puede obtener $\\lambda$:\n",
    "\n",
    "$\\lambda = \\frac{ln(2)}{T_m}$"
   ]
  },
  {
   "cell_type": "markdown",
   "id": "aeec5bc8",
   "metadata": {},
   "source": [
    "![Problema 1](imagenes/clase-0/numero-de-nucleos.png)"
   ]
  },
  {
   "cell_type": "markdown",
   "id": "0316604e",
   "metadata": {},
   "source": [
    "Definamos la función *nucleos* para realizar el cálculo. Usaremos la librería **numpy** en la cual están definidas el logaritmo natural y la función exponencial, y la librería **pint** para trabajar con unidades físicas: "
   ]
  },
  {
   "cell_type": "code",
   "execution_count": null,
   "id": "113a5629",
   "metadata": {},
   "outputs": [],
   "source": [
    "import numpy as np\n",
    "\n",
    "from pint import UnitRegistry\n",
    "u = UnitRegistry()"
   ]
  },
  {
   "cell_type": "code",
   "execution_count": null,
   "id": "ac0dfac8",
   "metadata": {},
   "outputs": [],
   "source": [
    "def nucleos(n0, Tm, t):\n",
    "    lmbd = np.log(2)/Tm\n",
    "    n = n0 * np.exp(-lmbd * t)\n",
    "    return n"
   ]
  },
  {
   "cell_type": "markdown",
   "id": "7f746f42",
   "metadata": {},
   "source": [
    "Definamos los datos del problema:"
   ]
  },
  {
   "cell_type": "code",
   "execution_count": null,
   "id": "72b2b14c",
   "metadata": {},
   "outputs": [],
   "source": [
    "N0 = 10000\n",
    "tmedio = 109.77 * u('min')\n",
    "t = 4 * u('hour')\n",
    "\n",
    "N4 = nucleos(N0, tmedio, t)\n",
    "print(N4)"
   ]
  },
  {
   "cell_type": "markdown",
   "id": "c6787bd9",
   "metadata": {},
   "source": [
    "Luego de 4 horas, de los 10 mil nucleos originales de F-18 quedarán alrededor de 2197 nucleos (el resto se habrá convertido en O-18. El resultado indica *dimensionless* porque el número de nucleos no tiene *dimensión* o unidades en particular.\n",
    "\n",
    "El resultado es el mismo si hubiesemos ingresado con 240 minutos (la librería de funciones **Pint** se encarga de las conversiones necesarias):"
   ]
  },
  {
   "cell_type": "code",
   "execution_count": null,
   "id": "9cd0ddaf",
   "metadata": {},
   "outputs": [],
   "source": [
    "N0 = 10000\n",
    "tmedio = 109.77 * u('min')\n",
    "t = 240 * u('minute')\n",
    "\n",
    "N4 = nucleos(N0, tmedio, t)\n",
    "print(N4)"
   ]
  },
  {
   "cell_type": "markdown",
   "id": "b7e4767e",
   "metadata": {},
   "source": [
    "## Ejercicio #3\n",
    "\n",
    "Calcular el coeficiente de atenuación másico para fotones de 780 KeV en agua. \n",
    "Datos de tabla (NIST):\n",
    "\n",
    "* Energía: 600 KeV. Coeficiente: $8.956 \\cdot 10^{-2} \\frac{cm^2}{g}$\n",
    "* Energía: 800 KeV. Coeficiente: $7.865 \\cdot 10^{-2} \\frac{cm^2}{g}$"
   ]
  },
  {
   "cell_type": "markdown",
   "id": "fc62f30f",
   "metadata": {},
   "source": [
    "## Resolución"
   ]
  },
  {
   "cell_type": "markdown",
   "id": "0cba8c6b",
   "metadata": {},
   "source": [
    "En la siguiente imagen se observan las coordenadas de los distintos puntos definidos en el problema (en el eje Y falta indicar que son valores por $10^{-2}$):\n",
    "    \n",
    "![Problema 3](imagenes/clase-0/interpolacion.png)"
   ]
  },
  {
   "cell_type": "markdown",
   "id": "66cf67d6",
   "metadata": {},
   "source": [
    "### Definición de una función\n",
    "\n",
    "A continuación definimos la función para interpolar de manera lineal entre dos pares de valores conocidos. Para hacerlo de modo genérico, elegimos las variables de los dos ejes como x, y:"
   ]
  },
  {
   "cell_type": "code",
   "execution_count": null,
   "id": "d63ae61d",
   "metadata": {},
   "outputs": [],
   "source": [
    "def interpolar(x1, y1, x2, y2, x):\n",
    "    '''(x1 y1) es el primer par de datos conocidos\n",
    "    (x2 y2) es el segundo par de datos conocidos\n",
    "    x es el la coordenada para la cual queremos calcular el valor interpolado'''\n",
    "    num = (x-x1)*(y2-y1)\n",
    "    den = (x2-x1)\n",
    "    return num/den + y1"
   ]
  },
  {
   "cell_type": "markdown",
   "id": "35fcef1b",
   "metadata": {},
   "source": [
    "En el eje x colocamos los valores de energía:"
   ]
  },
  {
   "cell_type": "code",
   "execution_count": null,
   "id": "7c79a55a",
   "metadata": {},
   "outputs": [],
   "source": [
    "E1 = 600 * u('keV')\n",
    "E2 = 800 * u('keV')\n",
    "E1, E2"
   ]
  },
  {
   "cell_type": "markdown",
   "id": "88d070b6",
   "metadata": {},
   "source": [
    "En el eje y colocamos los valores del coeficiente de atuenuación lineal:"
   ]
  },
  {
   "cell_type": "code",
   "execution_count": null,
   "id": "dc127ecc",
   "metadata": {},
   "outputs": [],
   "source": [
    "y1 = 8.956E-2 * u('cm**2/g')\n",
    "y2 = 7.865E-2 * u('cm**2/g')\n",
    "y1, y2"
   ]
  },
  {
   "cell_type": "markdown",
   "id": "b18a5ab8",
   "metadata": {},
   "source": [
    "Finalmente determinamos el valor del eje x para el cual queremos determinar el coeficiente de atenuación lineal y llamamos a la función para hacer el cálculo:"
   ]
  },
  {
   "cell_type": "code",
   "execution_count": null,
   "id": "324602a0",
   "metadata": {},
   "outputs": [],
   "source": [
    "x = 780 * u('keV')\n",
    "E = interpolar(E1, y1, E2, y2, x)\n",
    "E"
   ]
  },
  {
   "cell_type": "markdown",
   "id": "9f99b0e6",
   "metadata": {},
   "source": [
    "Podemos mostrar el resultado con cualquier unidad equivalente. Por ejemplo:"
   ]
  },
  {
   "cell_type": "code",
   "execution_count": null,
   "id": "91cc3472",
   "metadata": {},
   "outputs": [],
   "source": [
    "print(E.to('inch**2/lb'))\n",
    "print(E.to('mm**2/kg'))"
   ]
  }
 ],
 "metadata": {
  "kernelspec": {
   "display_name": "Python 3 (ipykernel)",
   "language": "python",
   "name": "python3"
  },
  "language_info": {
   "codemirror_mode": {
    "name": "ipython",
    "version": 3
   },
   "file_extension": ".py",
   "mimetype": "text/x-python",
   "name": "python",
   "nbconvert_exporter": "python",
   "pygments_lexer": "ipython3",
   "version": "3.10.6"
  }
 },
 "nbformat": 4,
 "nbformat_minor": 5
}
