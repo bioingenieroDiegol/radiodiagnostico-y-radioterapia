{
 "cells": [
  {
   "cell_type": "markdown",
   "metadata": {
    "id": "_-5YVE8Dr0d8"
   },
   "source": [
    "## REPL\n",
    "\n",
    "Read-Eval-Print-Loop: bucle de Lectura-Evaluación-Impresión"
   ]
  },
  {
   "cell_type": "markdown",
   "metadata": {
    "id": "XKmgh62b2wxO"
   },
   "source": [
    "# Problema\n",
    "\n",
    "Se tienen 25 $\\mu$g de Co-60, cuyo semiperíodo de desintegración es 5,271 años.\n",
    "\n",
    "## Actividad 1\n",
    "\n",
    "¿Cuántos núcleos tiene la muestra? ¿Y si fuesen 0,7 gramos?\n",
    "\n",
    "Como 1 mol de nucleos de Co-60 pesa 60 grs, entonces:\n",
    "\n",
    "$$N = 25 \\ \\mu gramos \\cdot \\frac{6.023 \\cdot 10^{23} \\ núcleos}{60 \\ gramos}$$\n"
   ]
  },
  {
   "cell_type": "code",
   "execution_count": 1,
   "metadata": {
    "colab": {
     "base_uri": "https://localhost:8080/"
    },
    "id": "nd4xzVD1sSp3",
    "outputId": "51658c6c-c21a-4d95-ea31-2329cf1c2d1b"
   },
   "outputs": [
    {
     "data": {
      "text/plain": [
       "2.5095833333333334e+17"
      ]
     },
     "execution_count": 1,
     "metadata": {},
     "output_type": "execute_result"
    }
   ],
   "source": [
    "m = 25E-6    # en gramos\n",
    "Av = 6.023E23 # adimensional\n",
    "masa_mol_Co60 = 60       # en gramos\n",
    "\n",
    "N0 = m * Av / masa_mol_Co60\n",
    "N0"
   ]
  },
  {
   "cell_type": "code",
   "execution_count": 2,
   "metadata": {
    "colab": {
     "base_uri": "https://localhost:8080/"
    },
    "id": "PjXKISJ628X-",
    "outputId": "9e1164fe-6bf1-4056-c6e8-ec0d5bcecff6"
   },
   "outputs": [
    {
     "data": {
      "text/plain": [
       "7.026833333333333e+21"
      ]
     },
     "execution_count": 2,
     "metadata": {},
     "output_type": "execute_result"
    }
   ],
   "source": [
    "m = 0.7    # en gramos\n",
    "\n",
    "N0 = m * Av / masa_mol_Co60\n",
    "N0"
   ]
  },
  {
   "cell_type": "markdown",
   "metadata": {
    "id": "jPMilhEOv7qV"
   },
   "source": [
    "### Uso de la librería PINT"
   ]
  },
  {
   "cell_type": "code",
   "execution_count": 3,
   "metadata": {
    "id": "U4x769XNu0bC"
   },
   "outputs": [],
   "source": [
    "from pint import UnitRegistry\n",
    "u = UnitRegistry()"
   ]
  },
  {
   "cell_type": "markdown",
   "metadata": {
    "id": "D2iUZScuv3P0"
   },
   "source": [
    "### Instalación de la librería PINT"
   ]
  },
  {
   "cell_type": "code",
   "execution_count": 4,
   "metadata": {
    "colab": {
     "base_uri": "https://localhost:8080/"
    },
    "id": "Z56R3mrJu-wX",
    "outputId": "16853540-1abe-4c02-cdd4-99740c534701"
   },
   "outputs": [
    {
     "name": "stdout",
     "output_type": "stream",
     "text": [
      "Requirement already satisfied: pint in /home/diegol/.pyenv/versions/3.10.6/envs/lab/lib/python3.10/site-packages (0.19.2)\n",
      "\n",
      "\u001b[1m[\u001b[0m\u001b[34;49mnotice\u001b[0m\u001b[1;39;49m]\u001b[0m\u001b[39;49m A new release of pip is available: \u001b[0m\u001b[31;49m23.1.2\u001b[0m\u001b[39;49m -> \u001b[0m\u001b[32;49m23.2.1\u001b[0m\n",
      "\u001b[1m[\u001b[0m\u001b[34;49mnotice\u001b[0m\u001b[1;39;49m]\u001b[0m\u001b[39;49m To update, run: \u001b[0m\u001b[32;49mpython3.10 -m pip install --upgrade pip\u001b[0m\n",
      "Note: you may need to restart the kernel to use updated packages.\n"
     ]
    }
   ],
   "source": [
    "pip install pint"
   ]
  },
  {
   "cell_type": "code",
   "execution_count": 5,
   "metadata": {
    "colab": {
     "base_uri": "https://localhost:8080/",
     "height": 37
    },
    "id": "IrM264nUvHpp",
    "outputId": "5ecbb23f-20d5-4d4d-f679-da583ff5a4bc"
   },
   "outputs": [
    {
     "data": {
      "text/html": [
       "2.5095833333333334×10<sup>23</sup> microgram/gram"
      ],
      "text/latex": [
       "$2.5095833333333334\\times 10^{23}\\ \\frac{\\mathrm{microgram}}{\\mathrm{gram}}$"
      ],
      "text/plain": [
       "2.5095833333333334e+23 <Unit('microgram / gram')>"
      ]
     },
     "execution_count": 5,
     "metadata": {},
     "output_type": "execute_result"
    }
   ],
   "source": [
    "m = 25 * u('ug')\n",
    "Av = 6.023E23\n",
    "masa_mol_Co60 = 60 * u('g')\n",
    "\n",
    "N0 = m * Av / masa_mol_Co60\n",
    "N0"
   ]
  },
  {
   "cell_type": "code",
   "execution_count": 6,
   "metadata": {
    "colab": {
     "base_uri": "https://localhost:8080/",
     "height": 37
    },
    "id": "2aEEZjTIvOXu",
    "outputId": "2e5ad5d2-63ba-4315-cf68-633221639849"
   },
   "outputs": [
    {
     "data": {
      "text/html": [
       "2.5095833333333334×10<sup>17</sup> dimensionless"
      ],
      "text/latex": [
       "$2.5095833333333334\\times 10^{17}\\ dimensionless$"
      ],
      "text/plain": [
       "2.5095833333333334e+17 <Unit('dimensionless')>"
      ]
     },
     "execution_count": 6,
     "metadata": {},
     "output_type": "execute_result"
    }
   ],
   "source": [
    "N0.to('')\n"
   ]
  },
  {
   "cell_type": "markdown",
   "metadata": {
    "id": "SEQdpSvGsPW7"
   },
   "source": [
    "### Actividad 2\n",
    "\n",
    "¿Cuántos nucleos de Co-60 quedan tras 5 años? ¿Y tras 600 días?\n",
    "$$N = N_0 \\cdot e^{-\\lambda t}$$\n",
    "\n",
    "\n",
    "\n",
    "\n"
   ]
  },
  {
   "cell_type": "markdown",
   "metadata": {
    "id": "bs1wp7BH6eQT"
   },
   "source": [
    "#### Calculemos primero transcurridos 5 años:"
   ]
  },
  {
   "cell_type": "code",
   "execution_count": 7,
   "metadata": {
    "colab": {
     "base_uri": "https://localhost:8080/",
     "height": 37
    },
    "id": "hMOeO_9V5Ng6",
    "outputId": "89e5209f-9cbe-40ab-a422-901197a010db"
   },
   "outputs": [
    {
     "ename": "NameError",
     "evalue": "name 'log' is not defined",
     "output_type": "error",
     "traceback": [
      "\u001b[0;31m---------------------------------------------------------------------------\u001b[0m",
      "\u001b[0;31mNameError\u001b[0m                                 Traceback (most recent call last)",
      "Input \u001b[0;32mIn [7]\u001b[0m, in \u001b[0;36m<cell line: 2>\u001b[0;34m()\u001b[0m\n\u001b[1;32m      1\u001b[0m tmedio \u001b[38;5;241m=\u001b[39m \u001b[38;5;241m5.271\u001b[39m \u001b[38;5;241m*\u001b[39m u(\u001b[38;5;124m'\u001b[39m\u001b[38;5;124myears\u001b[39m\u001b[38;5;124m'\u001b[39m)\n\u001b[0;32m----> 2\u001b[0m lmbd \u001b[38;5;241m=\u001b[39m \u001b[43mlog\u001b[49m(\u001b[38;5;241m2\u001b[39m)\u001b[38;5;241m/\u001b[39mtmedio      \u001b[38;5;66;03m# log() es logaritmo natural, no confundir con logaritmo de base 10: log10()\u001b[39;00m\n\u001b[1;32m      3\u001b[0m t \u001b[38;5;241m=\u001b[39m \u001b[38;5;241m5\u001b[39m \u001b[38;5;241m*\u001b[39m u(\u001b[38;5;124m'\u001b[39m\u001b[38;5;124myears\u001b[39m\u001b[38;5;124m'\u001b[39m)\n\u001b[1;32m      4\u001b[0m N \u001b[38;5;241m=\u001b[39m N0 \u001b[38;5;241m*\u001b[39m exp(\u001b[38;5;241m-\u001b[39mlmbd \u001b[38;5;241m*\u001b[39m t)\n",
      "\u001b[0;31mNameError\u001b[0m: name 'log' is not defined"
     ]
    }
   ],
   "source": [
    "tmedio = 5.271 * u('years')\n",
    "lmbd = log(2)/tmedio      # log() es logaritmo natural, no confundir con logaritmo de base 10: log10()\n",
    "t = 5 * u('years')\n",
    "N = N0 * exp(-lmbd * t)\n",
    "N.to('')"
   ]
  },
  {
   "cell_type": "code",
   "execution_count": null,
   "metadata": {
    "id": "5U3cl49p5ozK"
   },
   "outputs": [],
   "source": [
    "import numpy as np"
   ]
  },
  {
   "cell_type": "markdown",
   "metadata": {
    "id": "-o5Rorg_6la8"
   },
   "source": [
    "#### Calculemos para 600 días a partir del momento inicial:"
   ]
  },
  {
   "cell_type": "code",
   "execution_count": null,
   "metadata": {
    "id": "CT8xMUf_6rhv"
   },
   "outputs": [],
   "source": []
  },
  {
   "cell_type": "markdown",
   "metadata": {
    "id": "W5xw5lSsu96g"
   },
   "source": [
    "### Actividad 3\n",
    "\n",
    "¿Cuál es la actividad inicial y la actividad final del Co-60?\n",
    "$$A = A_0 \\cdot e^{-\\lambda t}$$"
   ]
  },
  {
   "cell_type": "markdown",
   "metadata": {
    "id": "k3We1mst67nJ"
   },
   "source": [
    "La actividad inicial se calcula como:\n",
    "\n",
    "$$A = \\lambda N$$"
   ]
  },
  {
   "cell_type": "code",
   "execution_count": null,
   "metadata": {
    "colab": {
     "base_uri": "https://localhost:8080/",
     "height": 37
    },
    "id": "93kE6ATS7CuU",
    "outputId": "49b5ed8f-18a3-4c51-c90d-6c20e64b1080"
   },
   "outputs": [],
   "source": [
    "A0 = lmbd * N0\n",
    "A0"
   ]
  },
  {
   "cell_type": "markdown",
   "metadata": {
    "id": "qtA4Z_r08ntr"
   },
   "source": [
    "#### Calcular la actividad final (tras 5 años y tras 600 días)."
   ]
  },
  {
   "cell_type": "markdown",
   "metadata": {
    "id": "oq0atiJg88uy"
   },
   "source": [
    "### Funciones"
   ]
  },
  {
   "cell_type": "code",
   "execution_count": null,
   "metadata": {
    "id": "Nx-vm-139APQ"
   },
   "outputs": [],
   "source": [
    "def Nucleos(N0,tmedio,t):\n",
    "    '''\n",
    "    Devuelve el número de nucleos de una muestra a\n",
    "    partir del número de nucleos inicial (N0), el\n",
    "    semiperíodo de desintegración (tmedio) y el\n",
    "    tiempo (t)\n",
    "    '''\n",
    "    lmbd = np.log(2)/tmedio     # np.log() es el logaritmo natural. Para logaritmo en base 10 usar np.log10()\n",
    "    return N0 * np.exp(-lmbd * t)"
   ]
  },
  {
   "cell_type": "code",
   "execution_count": null,
   "metadata": {
    "colab": {
     "base_uri": "https://localhost:8080/",
     "height": 34
    },
    "id": "Jw5H9tQ39Ykr",
    "outputId": "fc242caa-39d3-44e7-c4df-cdf435409cef"
   },
   "outputs": [],
   "source": [
    "N0 = 1000\n",
    "tmedio = 10 * u('days')\n",
    "tiempo = 10 * u('days')\n",
    "N = Nucleos(N0, tmedio, tiempo)\n",
    "N"
   ]
  },
  {
   "cell_type": "markdown",
   "metadata": {
    "id": "e-PTJVHr62u6"
   },
   "source": [
    "### Actividad 4\n",
    "\n",
    "Graficar la evolución del número de nucleos y de la actividad en 25 años desde la situación inicial."
   ]
  },
  {
   "cell_type": "code",
   "execution_count": null,
   "metadata": {
    "colab": {
     "base_uri": "https://localhost:8080/",
     "height": 573
    },
    "id": "bleevCgG6_UN",
    "outputId": "c186c0ca-fba7-4ef0-a17d-f9e680c1a21a"
   },
   "outputs": [],
   "source": [
    "import matplotlib.pyplot as plt\n",
    "u.setup_matplotlib(True)\n",
    "\n",
    "# Definimos los valores de las variables\n",
    "N0 = 1000\n",
    "tmedio = 10 * u('days')\n",
    "t = np.linspace(0, 24, 25) * u.days            # Generamos un vector para el tiempo\n",
    "print(\"Vector de tiempo: \", t)                 # Mostramos ese vector\n",
    "print(\"Tamaño del vector de tiempo: \", t.size)\n",
    "\n",
    "N = Nucleos(N0,tmedio,t)                       # Calculamos el vector con el número de núcleos\n",
    "print(\"Vector de nucleos: \", N)                # Mostramos el vector con los valores de tiempo\n",
    "print(\"Tamaño del vector de nucleos: \", N.size)\n",
    "print()\n",
    "\n",
    "# Graficamos\n",
    "fig, ax = plt.subplots()\n",
    "ax.plot(t, N, 'tab:blue')\n",
    "\n",
    "# Trazamos una horizontal\n",
    "# ax.axhline(500, color='tab:red')\n",
    "\n",
    "# Trazamos una vertical\n",
    "# ax.axvline(10 * u.days, color='tab:green')"
   ]
  },
  {
   "cell_type": "code",
   "execution_count": null,
   "metadata": {
    "id": "VbITzQYN-qJy"
   },
   "outputs": [],
   "source": []
  }
 ],
 "metadata": {
  "colab": {
   "provenance": []
  },
  "kernelspec": {
   "display_name": "Python 3 (ipykernel)",
   "language": "python",
   "name": "python3"
  },
  "language_info": {
   "codemirror_mode": {
    "name": "ipython",
    "version": 3
   },
   "file_extension": ".py",
   "mimetype": "text/x-python",
   "name": "python",
   "nbconvert_exporter": "python",
   "pygments_lexer": "ipython3",
   "version": "3.10.6"
  }
 },
 "nbformat": 4,
 "nbformat_minor": 1
}
