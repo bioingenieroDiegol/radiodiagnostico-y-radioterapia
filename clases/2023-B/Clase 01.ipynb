{
 "cells": [
  {
   "cell_type": "markdown",
   "id": "1ae74ae9",
   "metadata": {},
   "source": [
    "$$N(t) = N_0 \\cdot e^{-\\lambda t}$$\n",
    "\n",
    "$$A(t) = A_0 \\cdot e^{-\\lambda t}$$\n",
    "\n",
    "$$A = \\lambda N$$\n",
    "\n",
    "$$T_\\frac{1}{2} = \\frac{ln(2)}{\\lambda} $$\n",
    "\n",
    "$$ \\lambda = \\frac{ln(2)}{T_\\frac{1}{2}} $$"
   ]
  },
  {
   "cell_type": "code",
   "execution_count": 6,
   "id": "81f090b1",
   "metadata": {},
   "outputs": [],
   "source": [
    "gamma1=9.19E-02+7.13E-01+6.80E-02+4.20E-03+1.69E-03"
   ]
  },
  {
   "cell_type": "code",
   "execution_count": 7,
   "id": "b937acd2",
   "metadata": {},
   "outputs": [],
   "source": [
    "gamma2=8.56E-01+1.84E-02+1.73E-03"
   ]
  },
  {
   "cell_type": "code",
   "execution_count": 5,
   "id": "77a8cbe1",
   "metadata": {},
   "outputs": [],
   "source": [
    "gamma3=1.06E-01+1.43E-02+1.27E-03"
   ]
  },
  {
   "cell_type": "code",
   "execution_count": 9,
   "id": "c701110d",
   "metadata": {},
   "outputs": [
    {
     "name": "stdout",
     "output_type": "stream",
     "text": [
      "0.87879 0.87613 0.12156999999999998\n"
     ]
    }
   ],
   "source": [
    "print(gamma1, gamma2, gamma3)"
   ]
  },
  {
   "cell_type": "code",
   "execution_count": 10,
   "id": "9f5eba59",
   "metadata": {},
   "outputs": [
    {
     "data": {
      "text/plain": [
       "0.1869"
      ]
     },
     "execution_count": 10,
     "metadata": {},
     "output_type": "execute_result"
    }
   ],
   "source": [
    "1.64E-1+2.29E-2"
   ]
  },
  {
   "cell_type": "code",
   "execution_count": null,
   "id": "28efc86e",
   "metadata": {},
   "outputs": [],
   "source": []
  }
 ],
 "metadata": {
  "kernelspec": {
   "display_name": "Python 3 (ipykernel)",
   "language": "python",
   "name": "python3"
  },
  "language_info": {
   "codemirror_mode": {
    "name": "ipython",
    "version": 3
   },
   "file_extension": ".py",
   "mimetype": "text/x-python",
   "name": "python",
   "nbconvert_exporter": "python",
   "pygments_lexer": "ipython3",
   "version": "3.10.6"
  }
 },
 "nbformat": 4,
 "nbformat_minor": 5
}
