{
 "cells": [
  {
   "cell_type": "markdown",
   "metadata": {},
   "source": [
    "## Lectura de archivo *jpg*"
   ]
  },
  {
   "cell_type": "code",
   "execution_count": null,
   "metadata": {},
   "outputs": [],
   "source": [
    "from PIL import Image # PIL: Python Image Library\n",
    "import numpy as np\n",
    "from matplotlib import pyplot as plt"
   ]
  },
  {
   "cell_type": "code",
   "execution_count": null,
   "metadata": {},
   "outputs": [],
   "source": [
    "im = Image.open('./img/grises.jpg')\n",
    "print(im.format)\n",
    "print(im.size)\n",
    "print(im.mode)  ## modo de codificar el color\n",
    "im"
   ]
  },
  {
   "cell_type": "markdown",
   "metadata": {},
   "source": [
    "## Escritura de la imagen en disco"
   ]
  },
  {
   "cell_type": "code",
   "execution_count": null,
   "metadata": {},
   "outputs": [],
   "source": [
    "%ls img"
   ]
  },
  {
   "cell_type": "code",
   "execution_count": null,
   "metadata": {},
   "outputs": [],
   "source": [
    "im.save(\"./img/grises.png\", \"png\")"
   ]
  },
  {
   "cell_type": "code",
   "execution_count": null,
   "metadata": {},
   "outputs": [],
   "source": [
    "%ls img"
   ]
  },
  {
   "cell_type": "markdown",
   "metadata": {},
   "source": [
    "## Lectura de archivo *png*"
   ]
  },
  {
   "cell_type": "code",
   "execution_count": null,
   "metadata": {},
   "outputs": [],
   "source": [
    "im2 = Image.open('./img/grises.png')\n",
    "print(im2.format)\n",
    "print(im2.size)\n",
    "print(im2.mode)  ## modo de codificar el color\n",
    "im2"
   ]
  },
  {
   "cell_type": "markdown",
   "metadata": {},
   "source": [
    "## Conversión de Imagen a Matriz (y viceversa)\n",
    "\n",
    "* Para pasar de una imagen de PIL a una matriz de Numpy: **matriz = numpy.asarray(imagen)**\n",
    "* Para pasar de una matriz de Numpy a una imagen de PIL: **imagen = PIL.Image.fromarray(matriz)**"
   ]
  },
  {
   "cell_type": "markdown",
   "metadata": {},
   "source": [
    "### Ejemplo 1: de imagen a matriz"
   ]
  },
  {
   "cell_type": "code",
   "execution_count": null,
   "metadata": {},
   "outputs": [],
   "source": [
    "matriz_im = np.asarray(im)\n",
    "\n",
    "print(matriz_im.shape) # la matriz tiene 3 dimensiones porque se necesitan 3 colores para formar cada punto\n",
    "\n",
    "matriz_im[100:105,100:103]  # muestra algunos elementos de la matriz (un arreglo de 5 x 3)\n",
    "                            # cada elemento contiene tres números porque es un color RGB"
   ]
  },
  {
   "cell_type": "markdown",
   "metadata": {},
   "source": [
    "### Ejemplo 2: de matriz a imagen"
   ]
  },
  {
   "cell_type": "code",
   "execution_count": null,
   "metadata": {},
   "outputs": [],
   "source": [
    "imagen = Image.fromarray(matriz_im)\n",
    "imagen"
   ]
  },
  {
   "cell_type": "markdown",
   "metadata": {},
   "source": [
    "## Imagen SPECT"
   ]
  },
  {
   "cell_type": "code",
   "execution_count": null,
   "metadata": {},
   "outputs": [],
   "source": [
    "im_spect = Image.open('./img/spect.jpg')\n",
    "spect = np.asarray(im_spect)\n",
    "im_spect"
   ]
  },
  {
   "cell_type": "code",
   "execution_count": null,
   "metadata": {},
   "outputs": [],
   "source": [
    "print(spect.shape)\n",
    "print(spect[100:105,100:103])"
   ]
  },
  {
   "cell_type": "markdown",
   "metadata": {},
   "source": [
    "## Recorte de imagen (con Numpy)"
   ]
  },
  {
   "cell_type": "markdown",
   "metadata": {},
   "source": [
    "Podríamos querer fragmentar la imagen original en 4 imagenes diferentes. Una opción es trabajar con la matriz. Como el tamaño de la matriz es de 500x440, sabemos que cada vista ocupa 250x220. Por ende, para obtener la primera vista lateral necesitamos *rebanar* (*slice*) las 220 primeras filas y las 250 primeras columnas."
   ]
  },
  {
   "cell_type": "code",
   "execution_count": null,
   "metadata": {},
   "outputs": [],
   "source": [
    "recorte_1 = spect[0:220, 0:250]\n",
    "im_recorte_1 = Image.fromarray(recorte_1)\n",
    "im_recorte_1"
   ]
  },
  {
   "cell_type": "code",
   "execution_count": null,
   "metadata": {},
   "outputs": [],
   "source": [
    "im_recorte_2 = Image.fromarray(spect[0:220, 250:500])\n",
    "im_recorte_2"
   ]
  },
  {
   "cell_type": "code",
   "execution_count": null,
   "metadata": {},
   "outputs": [],
   "source": [
    "im_recorte_3 = Image.fromarray(spect[220:440, 0:250])\n",
    "im_recorte_3"
   ]
  },
  {
   "cell_type": "code",
   "execution_count": null,
   "metadata": {},
   "outputs": [],
   "source": [
    "im_recorte_4 = Image.fromarray(spect[220:440, 250:500])\n",
    "im_recorte_4"
   ]
  },
  {
   "cell_type": "markdown",
   "metadata": {},
   "source": [
    "### Definición de una función para automatizar la obtención de un fragmento de la imagen"
   ]
  },
  {
   "cell_type": "markdown",
   "metadata": {},
   "source": [
    "De paso vemos cómo se \"empaqueta\" más de una variable en la salida de la función, y cómo se recuperan en diferentes variables las dos salidas de esta función."
   ]
  },
  {
   "cell_type": "code",
   "execution_count": null,
   "metadata": {},
   "outputs": [],
   "source": [
    "def fragmentar(matriz, fila_inicial, delta_fila, columna_inicial, delta_columna):\n",
    "    ''' \n",
    "    Recibe una matriz con los datos de la imagen\n",
    "    Calcula un fragmento de la matriz y devuelve el fragmento en dos formatos: matriz e imagen\n",
    "    '''\n",
    "    fragmento = matriz[fila_inicial:fila_inicial+delta_fila, columna_inicial:columna_inicial+delta_columna]\n",
    "    return fragmento, Image.fromarray(fragmento)"
   ]
  },
  {
   "cell_type": "code",
   "execution_count": null,
   "metadata": {},
   "outputs": [],
   "source": [
    "fila_inicial = 20\n",
    "delta_f = 170\n",
    "\n",
    "columnna_inicial = 300\n",
    "delta_c = 140\n",
    "\n",
    "## obtención de la matriz y de la imagen\n",
    "frag, imagen_frag = fragmentar(spect, fila_inicial, delta_f, columnna_inicial, delta_c)\n",
    "imagen_frag"
   ]
  },
  {
   "cell_type": "markdown",
   "metadata": {},
   "source": [
    "## Recorte de imagen (con PIL)"
   ]
  },
  {
   "cell_type": "code",
   "execution_count": null,
   "metadata": {},
   "outputs": [],
   "source": [
    "cuadro = (300,20,440,190)  # definimos los dos puntos extremos del recorte: (300,20) y (440, 190)\n",
    "recorte = im_spect.crop(cuadro)\n",
    "recorte"
   ]
  },
  {
   "cell_type": "markdown",
   "metadata": {},
   "source": [
    "## Separación de canales (colores) con Numpy"
   ]
  },
  {
   "cell_type": "code",
   "execution_count": null,
   "metadata": {},
   "outputs": [],
   "source": [
    "canal_R = frag[:,:,0]\n",
    "canal_G = frag[:,:,1]\n",
    "canal_B = frag[:,:,2]\n",
    "\n",
    "canales = np.concatenate((canal_R, canal_G, canal_B),axis=1)\n",
    "Image.fromarray(canales)"
   ]
  },
  {
   "cell_type": "markdown",
   "metadata": {},
   "source": [
    "## Separación de canales (colores) con PIL"
   ]
  },
  {
   "cell_type": "code",
   "execution_count": null,
   "metadata": {},
   "outputs": [],
   "source": [
    "r, g, b = recorte.split()"
   ]
  },
  {
   "cell_type": "code",
   "execution_count": null,
   "metadata": {},
   "outputs": [],
   "source": [
    "b"
   ]
  },
  {
   "cell_type": "markdown",
   "metadata": {},
   "source": [
    "## Histograma de una imagen monocromática  con PIL"
   ]
  },
  {
   "cell_type": "markdown",
   "metadata": {},
   "source": [
    "Podemos obtener el histograma de una imagen monocromática con la función histogram(), que devuelve una lista con 256 elementos (1 por cada nivel de gris). Recordemos primero cuál es la imagen de la cual partimos:"
   ]
  },
  {
   "cell_type": "code",
   "execution_count": null,
   "metadata": {},
   "outputs": [],
   "source": [
    "r"
   ]
  },
  {
   "cell_type": "markdown",
   "metadata": {},
   "source": [
    "Ahora sí calculamos el histograma y mostramos sus características. "
   ]
  },
  {
   "cell_type": "code",
   "execution_count": null,
   "metadata": {},
   "outputs": [],
   "source": [
    "hist_r = r.histogram()\n",
    "print(\"tipo de datos del histograma: \", type(hist_r))\n",
    "print(\"cantidad de elementos del histograma: \", len(hist_r))\n",
    "plt.plot(hist_r);   # el punto y coma evita que aparezca información del objeto que no necesitamos"
   ]
  },
  {
   "cell_type": "markdown",
   "metadata": {},
   "source": [
    "## Histograma de una imagen en color con PIL"
   ]
  },
  {
   "cell_type": "markdown",
   "metadata": {},
   "source": [
    "Si la imagen contiene los tres canales de color, la función histogram() devuelve una sola lista con 768 elementos (3 * 256). Nuevamente, recordemos la imagen desde la cual partimos:"
   ]
  },
  {
   "cell_type": "code",
   "execution_count": null,
   "metadata": {},
   "outputs": [],
   "source": [
    "recorte"
   ]
  },
  {
   "cell_type": "markdown",
   "metadata": {},
   "source": [
    "Ahora sí obtenemos los tres histogramas, que aparecen concatenados, uno a continuación del otro."
   ]
  },
  {
   "cell_type": "code",
   "execution_count": null,
   "metadata": {},
   "outputs": [],
   "source": [
    "plt.plot(recorte.histogram());"
   ]
  },
  {
   "cell_type": "markdown",
   "metadata": {},
   "source": [
    "Puedo separar los 3 histogramas rebanando la lista y graficándolos superpuestos: "
   ]
  },
  {
   "cell_type": "code",
   "execution_count": null,
   "metadata": {},
   "outputs": [],
   "source": [
    "plt.plot(recorte.histogram()[0:256])\n",
    "plt.plot(recorte.histogram()[256:512])\n",
    "plt.plot(recorte.histogram()[512:]);"
   ]
  },
  {
   "cell_type": "markdown",
   "metadata": {},
   "source": [
    "El pico inicial corresponde al negro, y los valores cercanos a 256 corresponden al blanco. Como gran parte de la imagen tiene negro entonces por eso aparece un pico en ese valor. Grafiquemos el histograma pero salteando los valores cercanos a estos dos extremos (negro y blanco), para ver con más detalle los valores intermedios."
   ]
  },
  {
   "cell_type": "code",
   "execution_count": null,
   "metadata": {},
   "outputs": [],
   "source": [
    "offset = 5\n",
    "\n",
    "plt.plot(recorte.histogram()[offset:256-offset])\n",
    "plt.plot(recorte.histogram()[256+offset:512-offset])\n",
    "plt.plot(recorte.histogram()[512+offset:-offset])"
   ]
  },
  {
   "cell_type": "markdown",
   "metadata": {},
   "source": [
    "### Histograma con Numpy"
   ]
  },
  {
   "cell_type": "markdown",
   "metadata": {},
   "source": [
    "Recordemos que la matriz (full color) está almacenada en **matriz_im** y en **frag**. En este caso el argumento *bins* permite determinar en cuantos segmentos dividir el dominio (en vez de que el número de segmentos sea el número total de grises)."
   ]
  },
  {
   "cell_type": "code",
   "execution_count": null,
   "metadata": {},
   "outputs": [],
   "source": [
    "histograma, bordes = np.histogram(frag, bins=10)\n",
    "histograma"
   ]
  },
  {
   "cell_type": "markdown",
   "metadata": {},
   "source": [
    "Podría graficar directamente con **plt.plot(histograma)** pero cambiarían los números en el eje x. El array *bordes* tiene un elemento más que el histograma, por eso elimino el último."
   ]
  },
  {
   "cell_type": "code",
   "execution_count": null,
   "metadata": {},
   "outputs": [],
   "source": [
    "print(\"Cantidad de elementos en bordes: \", len(bordes))\n",
    "print(\"Cantidad de elementos en histograma: \", len(histograma))\n",
    "plt.plot(bordes[0:-1], histograma);"
   ]
  },
  {
   "cell_type": "markdown",
   "metadata": {},
   "source": [
    "### Histograma con Matplotlib"
   ]
  },
  {
   "cell_type": "markdown",
   "metadata": {},
   "source": [
    "En este caso se usa la función **hist()** de Matplotlib. Antes se debe \"desenrollar\" la matriz en un vector unidimensional, lo cual se logra con la función **ravel()**. Por defecto el dominio se divide en 10 segmentos."
   ]
  },
  {
   "cell_type": "code",
   "execution_count": null,
   "metadata": {},
   "outputs": [],
   "source": [
    "plt.hist(frag.ravel());"
   ]
  },
  {
   "cell_type": "markdown",
   "metadata": {},
   "source": [
    "Pero también se puede dividir en más (o menos) segmentos:"
   ]
  },
  {
   "cell_type": "code",
   "execution_count": null,
   "metadata": {},
   "outputs": [],
   "source": [
    "plt.hist(frag.ravel(), bins=50);"
   ]
  },
  {
   "cell_type": "markdown",
   "metadata": {},
   "source": [
    "## Luminancia"
   ]
  },
  {
   "cell_type": "markdown",
   "metadata": {},
   "source": [
    "Las imágenes en color a se pueden convertir a escala de grises con la función de luminancia. Esta función tiene en cuenta nuestra característica de percepción visual, que no es lineal: por ejemplo, el gris medio que nuestro sistema visual identifica a la misma distancia del blanco que del negro, no se corresponde con el punto medio del rojo, verde y azul."
   ]
  },
  {
   "cell_type": "code",
   "execution_count": null,
   "metadata": {},
   "outputs": [],
   "source": [
    "foto = Image.open('./img/parana.jpg')\n",
    "foto"
   ]
  },
  {
   "cell_type": "code",
   "execution_count": null,
   "metadata": {},
   "outputs": [],
   "source": [
    "foto_gris = foto.convert('L')\n",
    "foto_gris"
   ]
  },
  {
   "cell_type": "code",
   "execution_count": null,
   "metadata": {},
   "outputs": [],
   "source": [
    "plt.plot(foto_gris.histogram());"
   ]
  },
  {
   "cell_type": "markdown",
   "metadata": {},
   "source": [
    "## Operaciones con la imagen"
   ]
  },
  {
   "cell_type": "markdown",
   "metadata": {},
   "source": [
    "### Binarización\n",
    "\n",
    "Consiste en la conversión de la imagen a blanco y negro. Para ello se obtiene una matriz con las mismas dimensiones de la matriz original, pero conteniendo sólo valores booleanos (verdaderos y falsos). Como son dos valores, se interpreta como blanco y negro al convertir los datos en imágenes.\n",
    "\n",
    "Es interesante notar que la operación se efectúa sin tener que iterar a través de cada elemento de la matriz con un bucle **for**. La operación de comparación se realiza elemento a elemento con una sintaxis muy sencilla."
   ]
  },
  {
   "cell_type": "code",
   "execution_count": null,
   "metadata": {},
   "outputs": [],
   "source": [
    "original = np.asarray(foto_gris)   # convertimos la imagen a una matriz\n",
    "binarizada = original < 100\n",
    "\n",
    "print(binarizada)\n",
    "\n",
    "foto_bin = Image.fromarray(binarizada)\n",
    "foto_bin"
   ]
  },
  {
   "cell_type": "code",
   "execution_count": null,
   "metadata": {},
   "outputs": [],
   "source": [
    "plt.plot(foto_bin.histogram());"
   ]
  },
  {
   "cell_type": "markdown",
   "metadata": {},
   "source": [
    "### Umbralizado\n",
    "\n",
    "Se convierten en negro los grises más oscuros, por encima de un umbral, y se mantiene la luminosidad del resto."
   ]
  },
  {
   "cell_type": "code",
   "execution_count": null,
   "metadata": {},
   "outputs": [],
   "source": [
    "umbral = 120\n",
    "umbralizada = (original > umbral) * original\n",
    "\n",
    "print(umbralizada)\n",
    "\n",
    "foto_umbralizada = Image.fromarray(umbralizada)\n",
    "foto_umbralizada"
   ]
  },
  {
   "cell_type": "code",
   "execution_count": null,
   "metadata": {},
   "outputs": [],
   "source": [
    "plt.plot(foto_umbralizada.histogram());"
   ]
  }
 ],
 "metadata": {
  "kernelspec": {
   "display_name": "Python 3",
   "language": "python",
   "name": "python3"
  },
  "language_info": {
   "codemirror_mode": {
    "name": "ipython",
    "version": 3
   },
   "file_extension": ".py",
   "mimetype": "text/x-python",
   "name": "python",
   "nbconvert_exporter": "python",
   "pygments_lexer": "ipython3",
   "version": "3.8.5"
  }
 },
 "nbformat": 4,
 "nbformat_minor": 4
}
