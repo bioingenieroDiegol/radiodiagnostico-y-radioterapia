{
 "cells": [
  {
   "cell_type": "code",
   "execution_count": null,
   "metadata": {},
   "outputs": [],
   "source": [
    "from pint import UnitRegistry\n",
    "u = UnitRegistry()\n",
    "u.load_definitions('./mis-defs.txt')\n",
    "\n",
    "import numpy as np    # para utilizar algunas funciones como exp y log."
   ]
  },
  {
   "cell_type": "markdown",
   "metadata": {},
   "source": [
    "### Dificultad de uso de unidades físicas"
   ]
  },
  {
   "cell_type": "markdown",
   "metadata": {},
   "source": [
    "La unidad asociada a la cantidad con la cual se desea operar no forma parte del objeto, sólo la magnitud. Así que hay que acordarse cuáles son las unidades asociadas a cada variable, y aprovechar los comentarios para ir anotándolo y evitar errores. El resultado de operar con estas cantidades físicas no incluye ni informa las unidades."
   ]
  },
  {
   "cell_type": "code",
   "execution_count": null,
   "metadata": {},
   "outputs": [],
   "source": [
    "longitud = 3    # metros\n",
    "tiempo = 5    # segundos\n",
    "velocidad = longitud / tiempo\n",
    "velocidad"
   ]
  },
  {
   "cell_type": "markdown",
   "metadata": {},
   "source": [
    "### Definicion de variables con unidades fisicas"
   ]
  },
  {
   "cell_type": "markdown",
   "metadata": {},
   "source": [
    "Se puede usar la librería Pint para asociar cada magnitud con una unidad alojada en un objeto llamado **\"UnitRegistry\"**. A continuación se define una variable para guardar \"actividad\" con *magnitud* (1) y *unidad* (Curie)."
   ]
  },
  {
   "cell_type": "code",
   "execution_count": null,
   "metadata": {},
   "outputs": [],
   "source": [
    "A = 1 * u('Ci')"
   ]
  },
  {
   "cell_type": "markdown",
   "metadata": {},
   "source": [
    "Podemos mostrar la cantidad en cualquier otra unidad válida, en este caso en Becquerel:"
   ]
  },
  {
   "cell_type": "code",
   "execution_count": null,
   "metadata": {
    "scrolled": true
   },
   "outputs": [],
   "source": [
    "A.to('Bq')"
   ]
  },
  {
   "cell_type": "markdown",
   "metadata": {},
   "source": [
    "La cantidad guardada en A sigue siendo la misma, independientemente de la unidad usada para mostrarla. Al almacenar la magnitud junto con la unidad, luego podremos operar sin importar con qué unidad hayamos inicializado la variable. De todos modos, si pedimos que nos muestre la variable, se suele imprimir con la magnitud y unidad original."
   ]
  },
  {
   "cell_type": "code",
   "execution_count": null,
   "metadata": {},
   "outputs": [],
   "source": [
    "print(A)"
   ]
  },
  {
   "cell_type": "markdown",
   "metadata": {},
   "source": [
    "### Algebra de variables con unidades físicas"
   ]
  },
  {
   "cell_type": "markdown",
   "metadata": {},
   "source": [
    "Vamos a calcular la cantidad de nucleos presentes en una muestra de actividad A: $N = \\frac{A}{\\lambda}$"
   ]
  },
  {
   "cell_type": "code",
   "execution_count": null,
   "metadata": {},
   "outputs": [],
   "source": [
    "A = 10 * u('MBq')\n",
    "tmedio = 1 * u('hour')\n",
    "lmbd = np.log(2)/tmedio\n",
    "print(\"Lambda: \", lmbd)\n",
    "\n",
    "N = A / lmbd\n",
    "print(\"Núcleos: \", N)"
   ]
  },
  {
   "cell_type": "markdown",
   "metadata": {},
   "source": [
    "Aunque ingresamos la actividad en MBq y el Tmedio en horas, podríamos haber mostrado el resultado directamente con otras unidades compatibles:"
   ]
  },
  {
   "cell_type": "code",
   "execution_count": null,
   "metadata": {},
   "outputs": [],
   "source": [
    "N.to('nCi * year')"
   ]
  },
  {
   "cell_type": "markdown",
   "metadata": {},
   "source": [
    "Vemos en el ejemplo anterior que $\\lambda$ tiene las unidades adecuadas. En cambio el número de núcleos (N) se muestra de forma inusual, con unidades de: **tiempo * actividad**. Como **actividad** es **nucleos sobre tiempo** entonces **tiempo x actividad = nucleos**. Para presentarlo de manera adecuada, dado que el número de nucleos es una cantidad adimensional, utilizamos la siguiente forma:"
   ]
  },
  {
   "cell_type": "code",
   "execution_count": null,
   "metadata": {},
   "outputs": [],
   "source": [
    "N.to('')"
   ]
  },
  {
   "cell_type": "markdown",
   "metadata": {},
   "source": [
    "Si volvemos a utilizar N, veremos de vuelta la cantidad en horas*MBq"
   ]
  },
  {
   "cell_type": "code",
   "execution_count": null,
   "metadata": {},
   "outputs": [],
   "source": [
    "N"
   ]
  },
  {
   "cell_type": "markdown",
   "metadata": {},
   "source": [
    "Si por algún motivo deseamos guardarla con unidades distintas a las definidas inicialmente podemos usar la misma u otra variable:"
   ]
  },
  {
   "cell_type": "code",
   "execution_count": null,
   "metadata": {},
   "outputs": [],
   "source": [
    "NuevaN = N.to('')\n",
    "NuevaN"
   ]
  },
  {
   "cell_type": "markdown",
   "metadata": {},
   "source": [
    "### Separacion de magnitud y unidad\n",
    "\n",
    "Se pueden separar la magnitud y la unidad de una variable definida con UnitRegistry del siguiente modo:"
   ]
  },
  {
   "cell_type": "code",
   "execution_count": null,
   "metadata": {},
   "outputs": [],
   "source": [
    "magnitud = A.magnitude\n",
    "unidad = A.units\n",
    "print(magnitud)\n",
    "print(unidad)"
   ]
  },
  {
   "cell_type": "markdown",
   "metadata": {},
   "source": [
    "Si se quiere conservar las cantidades utilizando otra unidad, primero hay que convertir a la unidad deseada:"
   ]
  },
  {
   "cell_type": "code",
   "execution_count": null,
   "metadata": {},
   "outputs": [],
   "source": [
    "magnitud = A.to('Bq').magnitude\n",
    "unidad = A.to('Bq').units\n",
    "print(magnitud)\n",
    "print(unidad)"
   ]
  }
 ],
 "metadata": {
  "kernelspec": {
   "display_name": "Python 3",
   "language": "python",
   "name": "python3"
  },
  "language_info": {
   "codemirror_mode": {
    "name": "ipython",
    "version": 3
   },
   "file_extension": ".py",
   "mimetype": "text/x-python",
   "name": "python",
   "nbconvert_exporter": "python",
   "pygments_lexer": "ipython3",
   "version": "3.8.5"
  }
 },
 "nbformat": 4,
 "nbformat_minor": 2
}
